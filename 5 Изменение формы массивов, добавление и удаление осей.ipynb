{
  "cells": [
    {
      "cell_type": "code",
      "execution_count": 2,
      "metadata": {
        "id": "QvO31BluWYy_"
      },
      "outputs": [],
      "source": [
        "import numpy as np"
      ]
    },
    {
      "cell_type": "code",
      "execution_count": 3,
      "metadata": {
        "colab": {
          "base_uri": "https://localhost:8080/"
        },
        "id": "nA2jhXNaWbmS",
        "outputId": "090328b1-ea40-45d5-892c-266fa0991243"
      },
      "outputs": [
        {
          "data": {
            "text/plain": [
              "array([0, 1, 2, 3, 4, 5, 6, 7, 8, 9])"
            ]
          },
          "execution_count": 3,
          "metadata": {},
          "output_type": "execute_result"
        }
      ],
      "source": [
        "a = np.arange(10)\n",
        "a"
      ]
    },
    {
      "cell_type": "code",
      "execution_count": 4,
      "metadata": {
        "colab": {
          "base_uri": "https://localhost:8080/"
        },
        "id": "E6dRvJ6EbkaJ",
        "outputId": "50922c2b-5567-4f4d-9c7e-7bc667e03205"
      },
      "outputs": [
        {
          "data": {
            "text/plain": [
              "array([[0, 1, 2, 3, 4],\n",
              "       [5, 6, 7, 8, 9]])"
            ]
          },
          "execution_count": 4,
          "metadata": {},
          "output_type": "execute_result"
        }
      ],
      "source": [
        "a.shape = 2, 5\n",
        "a"
      ]
    },
    {
      "cell_type": "code",
      "execution_count": 5,
      "metadata": {
        "colab": {
          "base_uri": "https://localhost:8080/"
        },
        "id": "dlx27jUMbt6T",
        "outputId": "e3b311dd-36d9-4474-91c1-5fac2f2ffe21"
      },
      "outputs": [
        {
          "data": {
            "text/plain": [
              "array([0, 1, 2, 3, 4, 5, 6, 7, 8, 9])"
            ]
          },
          "execution_count": 5,
          "metadata": {},
          "output_type": "execute_result"
        }
      ],
      "source": [
        "# Изменить размерность в одномерный\n",
        "b = a.reshape(a.size) # 10  Новое представление\n",
        "b"
      ]
    },
    {
      "cell_type": "code",
      "execution_count": 6,
      "metadata": {
        "colab": {
          "base_uri": "https://localhost:8080/"
        },
        "id": "njF3uMMWrvk0",
        "outputId": "1febc0ef-a020-4b20-95a6-061dce18325c"
      },
      "outputs": [
        {
          "name": "stdout",
          "output_type": "stream",
          "text": [
            "[[0 1]\n",
            " [2 3]\n",
            " [4 5]\n",
            " [6 7]\n",
            " [8 9]]\n"
          ]
        },
        {
          "data": {
            "text/plain": [
              "array([[0, 1, 2, 3, 4],\n",
              "       [5, 6, 7, 8, 9]])"
            ]
          },
          "execution_count": 6,
          "metadata": {},
          "output_type": "execute_result"
        }
      ],
      "source": [
        "# shape\n",
        "# a.shape = -1, 2 Пусть кол-во строк сам рассчитает, а столбцов 2\n",
        "a.shape = -1, 2\n",
        "print(a)\n",
        "a.shape = -1, 5 # 2 строки и 5 стобцов\n",
        "a"
      ]
    },
    {
      "cell_type": "code",
      "execution_count": 7,
      "metadata": {
        "colab": {
          "base_uri": "https://localhost:8080/"
        },
        "id": "sS3LSaunsnou",
        "outputId": "0cee4545-fe69-4eef-e92c-bd0588eb5f88"
      },
      "outputs": [
        {
          "name": "stdout",
          "output_type": "stream",
          "text": [
            "[0 1 2 3 4 5 6 7 8 9]\n"
          ]
        },
        {
          "data": {
            "text/plain": [
              "array([[0],\n",
              "       [1],\n",
              "       [2],\n",
              "       [3],\n",
              "       [4],\n",
              "       [5],\n",
              "       [6],\n",
              "       [7],\n",
              "       [8],\n",
              "       [9]])"
            ]
          },
          "execution_count": 7,
          "metadata": {},
          "output_type": "execute_result"
        }
      ],
      "source": [
        "print(b)\n",
        "b.reshape(-1, 1) # двумерная матрица"
      ]
    },
    {
      "cell_type": "code",
      "execution_count": 8,
      "metadata": {
        "colab": {
          "base_uri": "https://localhost:8080/"
        },
        "id": "1HeriOlAtLD3",
        "outputId": "53953bdd-1f35-40c4-ec32-5c1ac265cc8e"
      },
      "outputs": [
        {
          "name": "stdout",
          "output_type": "stream",
          "text": [
            "[[0 1 2 3 4]\n",
            " [5 6 7 8 9]]\n"
          ]
        },
        {
          "data": {
            "text/plain": [
              "array([0, 1, 2, 3, 4, 5, 6, 7, 8, 9])"
            ]
          },
          "execution_count": 8,
          "metadata": {},
          "output_type": "execute_result"
        }
      ],
      "source": [
        "# Преобразовать многомерный массив в одномерный\n",
        "print(a)\n",
        "c = a.ravel() # Одномерный\n",
        "c"
      ]
    },
    {
      "cell_type": "code",
      "execution_count": 9,
      "metadata": {
        "colab": {
          "base_uri": "https://localhost:8080/"
        },
        "id": "d77bkFEFzj1t",
        "outputId": "0f4d0487-c354-4913-a41e-acf91a543aa6"
      },
      "outputs": [
        {
          "name": "stdout",
          "output_type": "stream",
          "text": [
            "[[0 1 2 3 4]\n",
            " [5 6 7 8 9]]\n"
          ]
        },
        {
          "data": {
            "text/plain": [
              "array([0, 1, 2, 3, 4, 5, 6, 7, 8, 9])"
            ]
          },
          "execution_count": 9,
          "metadata": {},
          "output_type": "execute_result"
        }
      ],
      "source": [
        "# Массив 'а' не изменился\n",
        "print(a)\n",
        "# Если нужно изменить сам массив 'a'. То все элементы по одной оси\n",
        "a.shape = -1 # ИЛИ a.shape = a.size\n",
        "a"
      ]
    },
    {
      "cell_type": "code",
      "execution_count": 10,
      "metadata": {
        "colab": {
          "base_uri": "https://localhost:8080/"
        },
        "id": "U1RzyyaW0GR4",
        "outputId": "7c7afe8d-4a3a-4b61-cfdf-52d80e241c83"
      },
      "outputs": [
        {
          "name": "stdout",
          "output_type": "stream",
          "text": [
            "[[0 1 2 3 4]\n",
            " [5 6 7 8 9]]\n",
            "[[0 1 2]\n",
            " [3 4 5]\n",
            " [6 7 8]]\n"
          ]
        },
        {
          "data": {
            "text/plain": [
              "array([[0, 1, 2, 3, 4],\n",
              "       [5, 6, 7, 8, 0],\n",
              "       [0, 0, 0, 0, 0],\n",
              "       [0, 0, 0, 0, 0]])"
            ]
          },
          "execution_count": 10,
          "metadata": {},
          "output_type": "execute_result"
        }
      ],
      "source": [
        "# Меняет представление текущего массива\n",
        "a.resize(2, 5)\n",
        "print(a)\n",
        "\n",
        "# Если неверные данные. Потеря последнего элемента\n",
        "# refcheck=False Опустить часть элементов\n",
        "a.resize(3, 3, refcheck=False)\n",
        "print(a)\n",
        "\n",
        "# Увеличить матрицу. Добавятся нули\n",
        "a.resize(4, 5, refcheck=False)\n",
        "a"
      ]
    },
    {
      "cell_type": "markdown",
      "metadata": {
        "id": "ew0KyQUC1DO3"
      },
      "source": [
        "# Транспонирование матриц"
      ]
    },
    {
      "cell_type": "code",
      "execution_count": 11,
      "metadata": {
        "colab": {
          "base_uri": "https://localhost:8080/"
        },
        "id": "JiioxL4m1HD0",
        "outputId": "65836879-1462-40cd-a370-ef30b1226c97"
      },
      "outputs": [
        {
          "name": "stdout",
          "output_type": "stream",
          "text": [
            "[[ 1  2  3]\n",
            " [ 1  4  9]\n",
            " [ 1  8 27]]\n"
          ]
        },
        {
          "data": {
            "text/plain": [
              "array([[ 1,  1,  1],\n",
              "       [ 2,  4,  8],\n",
              "       [ 3,  9, 27]])"
            ]
          },
          "execution_count": 11,
          "metadata": {},
          "output_type": "execute_result"
        }
      ],
      "source": [
        "a = np.array([ (1, 2, 3), (1, 4, 9), (1, 8, 27) ])\n",
        "print(a)\n",
        "\n",
        "b = a.T # Новое представление\n",
        "b"
      ]
    },
    {
      "cell_type": "code",
      "execution_count": 12,
      "metadata": {
        "colab": {
          "base_uri": "https://localhost:8080/"
        },
        "id": "gtlR9XoFEHNC",
        "outputId": "9dcdb8ae-8131-49e9-b068-c07da77b4bdc"
      },
      "outputs": [
        {
          "name": "stdout",
          "output_type": "stream",
          "text": [
            "[1 2 3 4 5 6 7 8 9]\n",
            "[1 2 3 4 5 6 7 8 9]\n",
            "[[1 2 3 4 5 6 7 8 9]]\n"
          ]
        },
        {
          "data": {
            "text/plain": [
              "array([[1],\n",
              "       [2],\n",
              "       [3],\n",
              "       [4],\n",
              "       [5],\n",
              "       [6],\n",
              "       [7],\n",
              "       [8],\n",
              "       [9]])"
            ]
          },
          "execution_count": 12,
          "metadata": {},
          "output_type": "execute_result"
        }
      ],
      "source": [
        "x = np.arange(1, 10)\n",
        "print(x)\n",
        "print(x.T) # Не изменился. Т.к. здесь только одна ось\n",
        "\n",
        "# Поэтому нужно добавить ещё одну ось\n",
        "x.shape = 1, -1\n",
        "print(x) # Стал двумерным\n",
        "\n",
        "x.T\n",
        "# 9/29"
      ]
    },
    {
      "cell_type": "markdown",
      "metadata": {
        "id": "hsKMKgxdpa3X"
      },
      "source": [
        "# Добавление и удаление осей"
      ]
    },
    {
      "cell_type": "code",
      "execution_count": 13,
      "metadata": {
        "colab": {
          "base_uri": "https://localhost:8080/"
        },
        "id": "clVP2HgBpZ2d",
        "outputId": "2000ede3-ca67-4ade-927d-1af6589440a9"
      },
      "outputs": [
        {
          "data": {
            "text/plain": [
              "array([[[ 0,  1],\n",
              "        [ 2,  3]],\n",
              "\n",
              "       [[ 4,  5],\n",
              "        [ 6,  7]],\n",
              "\n",
              "       [[ 8,  9],\n",
              "        [10, 11]],\n",
              "\n",
              "       [[12, 13],\n",
              "        [14, 15]],\n",
              "\n",
              "       [[16, 17],\n",
              "        [18, 19]],\n",
              "\n",
              "       [[20, 21],\n",
              "        [22, 23]],\n",
              "\n",
              "       [[24, 25],\n",
              "        [26, 27]],\n",
              "\n",
              "       [[28, 29],\n",
              "        [30, 31]]])"
            ]
          },
          "execution_count": 13,
          "metadata": {},
          "output_type": "execute_result"
        }
      ],
      "source": [
        "x_test = np.arange(32).reshape(8, 2, 2)\n",
        "x_test"
      ]
    },
    {
      "cell_type": "code",
      "execution_count": 14,
      "metadata": {
        "colab": {
          "base_uri": "https://localhost:8080/"
        },
        "id": "vcTwWii3qifu",
        "outputId": "02204604-0e28-4071-be4d-58731d8100e4"
      },
      "outputs": [
        {
          "name": "stdout",
          "output_type": "stream",
          "text": [
            "(1, 9)\n"
          ]
        },
        {
          "data": {
            "text/plain": [
              "(8, 2, 2)"
            ]
          },
          "execution_count": 14,
          "metadata": {},
          "output_type": "execute_result"
        }
      ],
      "source": [
        "print(x.shape)\n",
        "x_test.shape"
      ]
    },
    {
      "cell_type": "code",
      "execution_count": 15,
      "metadata": {
        "colab": {
          "base_uri": "https://localhost:8080/"
        },
        "id": "-KNJIZGYq6Ra",
        "outputId": "8b065a75-a1a8-4e9a-ab46-84285fbe4f1f"
      },
      "outputs": [
        {
          "data": {
            "text/plain": [
              "(1, 8, 2, 2)"
            ]
          },
          "execution_count": 15,
          "metadata": {},
          "output_type": "execute_result"
        }
      ],
      "source": [
        "# Добавить ещё одну ось в начало\n",
        "# Расширяем массив x_test и добавляем первую ось\n",
        "x_test4 = np.expand_dims(x_test, axis=0) # Ссылается на на новый массив. Новое представление, но не данные.\n",
        "x_test4.shape # (1, 8, 2, 2) Один элемент содержит трёхмерную матрицу"
      ]
    },
    {
      "cell_type": "code",
      "execution_count": 16,
      "metadata": {
        "colab": {
          "base_uri": "https://localhost:8080/"
        },
        "id": "_g9nd6ztr643",
        "outputId": "a8df81a3-65bd-4b19-adb2-62ee52f7d587"
      },
      "outputs": [
        {
          "data": {
            "text/plain": [
              "array([[[100,   1],\n",
              "        [  2,   3]],\n",
              "\n",
              "       [[  4,   5],\n",
              "        [  6,   7]],\n",
              "\n",
              "       [[  8,   9],\n",
              "        [ 10,  11]],\n",
              "\n",
              "       [[ 12,  13],\n",
              "        [ 14,  15]],\n",
              "\n",
              "       [[ 16,  17],\n",
              "        [ 18,  19]],\n",
              "\n",
              "       [[ 20,  21],\n",
              "        [ 22,  23]],\n",
              "\n",
              "       [[ 24,  25],\n",
              "        [ 26,  27]],\n",
              "\n",
              "       [[ 28,  29],\n",
              "        [ 30,  31]]])"
            ]
          },
          "execution_count": 16,
          "metadata": {},
          "output_type": "execute_result"
        }
      ],
      "source": [
        "x_test4[0, 0, 0, 0] = 100\n",
        "x_test # Тоже изменился"
      ]
    },
    {
      "cell_type": "code",
      "execution_count": 17,
      "metadata": {
        "colab": {
          "base_uri": "https://localhost:8080/"
        },
        "id": "m_aAzf3Ssbc3",
        "outputId": "748a0e89-000c-4f39-df56-d9acd1f2d3a3"
      },
      "outputs": [
        {
          "name": "stdout",
          "output_type": "stream",
          "text": [
            "(2, 8, 2, 2)\n"
          ]
        },
        {
          "data": {
            "text/plain": [
              "array([[[[100,   1],\n",
              "         [  2,   3]],\n",
              "\n",
              "        [[  4,   5],\n",
              "         [  6,   7]],\n",
              "\n",
              "        [[  8,   9],\n",
              "         [ 10,  11]],\n",
              "\n",
              "        [[ 12,  13],\n",
              "         [ 14,  15]],\n",
              "\n",
              "        [[ 16,  17],\n",
              "         [ 18,  19]],\n",
              "\n",
              "        [[ 20,  21],\n",
              "         [ 22,  23]],\n",
              "\n",
              "        [[ 24,  25],\n",
              "         [ 26,  27]],\n",
              "\n",
              "        [[ 28,  29],\n",
              "         [ 30,  31]]],\n",
              "\n",
              "\n",
              "       [[[100,   1],\n",
              "         [  2,   3]],\n",
              "\n",
              "        [[  4,   5],\n",
              "         [  6,   7]],\n",
              "\n",
              "        [[  8,   9],\n",
              "         [ 10,  11]],\n",
              "\n",
              "        [[ 12,  13],\n",
              "         [ 14,  15]],\n",
              "\n",
              "        [[ 16,  17],\n",
              "         [ 18,  19]],\n",
              "\n",
              "        [[ 20,  21],\n",
              "         [ 22,  23]],\n",
              "\n",
              "        [[ 24,  25],\n",
              "         [ 26,  27]],\n",
              "\n",
              "        [[ 28,  29],\n",
              "         [ 30,  31]]]])"
            ]
          },
          "execution_count": 17,
          "metadata": {},
          "output_type": "execute_result"
        }
      ],
      "source": [
        "# Добавить новый элемент на первую ось. Он тоже должен быть 4-х мерным\n",
        "# np.append(объект, что, ось)\n",
        "a = np.append(x_test4, x_test4, axis=0)\n",
        "print(a.shape)\n",
        "a"
      ]
    },
    {
      "cell_type": "code",
      "execution_count": 18,
      "metadata": {
        "colab": {
          "base_uri": "https://localhost:8080/"
        },
        "id": "5YN1J9whtHUV",
        "outputId": "c50f67ab-5b31-49f6-b404-6b841c22f2c4"
      },
      "outputs": [
        {
          "name": "stdout",
          "output_type": "stream",
          "text": [
            "(1, 8, 2, 2)\n"
          ]
        },
        {
          "data": {
            "text/plain": [
              "array([[[[100,   1],\n",
              "         [  2,   3]],\n",
              "\n",
              "        [[  4,   5],\n",
              "         [  6,   7]],\n",
              "\n",
              "        [[  8,   9],\n",
              "         [ 10,  11]],\n",
              "\n",
              "        [[ 12,  13],\n",
              "         [ 14,  15]],\n",
              "\n",
              "        [[ 16,  17],\n",
              "         [ 18,  19]],\n",
              "\n",
              "        [[ 20,  21],\n",
              "         [ 22,  23]],\n",
              "\n",
              "        [[ 24,  25],\n",
              "         [ 26,  27]],\n",
              "\n",
              "        [[ 28,  29],\n",
              "         [ 30,  31]]]])"
            ]
          },
          "execution_count": 18,
          "metadata": {},
          "output_type": "execute_result"
        }
      ],
      "source": [
        "# Удалить элемент. (Массив, индекс удаляемого элемента, axis=0 - с какой оси удалять)\n",
        "b = np.delete(a, 0, axis=0)\n",
        "print(b.shape)\n",
        "b"
      ]
    },
    {
      "cell_type": "code",
      "execution_count": 19,
      "metadata": {
        "colab": {
          "base_uri": "https://localhost:8080/"
        },
        "id": "5Q_-m1mSwl9X",
        "outputId": "a5e675cb-98a4-47fa-dad1-8e2ce21285b5"
      },
      "outputs": [
        {
          "data": {
            "text/plain": [
              "(1, 8, 2, 2, 1)"
            ]
          },
          "execution_count": 19,
          "metadata": {},
          "output_type": "execute_result"
        }
      ],
      "source": [
        "# Добавить ось в конец многомерного массива\n",
        "b = np.expand_dims(x_test4, axis=-1)\n",
        "b.shape"
      ]
    },
    {
      "cell_type": "code",
      "execution_count": 20,
      "metadata": {
        "colab": {
          "base_uri": "https://localhost:8080/"
        },
        "id": "4A2MIEgzw-Ev",
        "outputId": "18a4bf88-b367-49ae-aa1a-32558e0913c0"
      },
      "outputs": [
        {
          "name": "stdout",
          "output_type": "stream",
          "text": [
            "(8, 2, 2)\n"
          ]
        },
        {
          "data": {
            "text/plain": [
              "(8, 2, 2, 1)"
            ]
          },
          "execution_count": 20,
          "metadata": {},
          "output_type": "execute_result"
        }
      ],
      "source": [
        "# Удалить все оси, в которых один элемент\n",
        "c = np.squeeze(b)\n",
        "print(c.shape)\n",
        "# ИЛИ если строго определённую ось. squeeze удаляет оси в которых тоько один элемент\n",
        "c = np.squeeze(b, axis=0)\n",
        "c.shape"
      ]
    },
    {
      "cell_type": "code",
      "execution_count": 21,
      "metadata": {
        "colab": {
          "base_uri": "https://localhost:8080/"
        },
        "id": "90DbeBx8zhf6",
        "outputId": "d650beef-2ee0-43f4-b10f-16775e212a0c"
      },
      "outputs": [
        {
          "name": "stdout",
          "output_type": "stream",
          "text": [
            "[1 2 3 4 5 6 7 8 9]\n",
            "[[1 2 3 4 5 6 7 8 9]]\n"
          ]
        },
        {
          "data": {
            "text/plain": [
              "(1, 9)"
            ]
          },
          "execution_count": 21,
          "metadata": {},
          "output_type": "execute_result"
        }
      ],
      "source": [
        "# Newaxis\n",
        "a = np.arange(1, 10)\n",
        "print(a)\n",
        "\n",
        "# np.newaxis - новая ось, : - все остальные данные по второй оси без изменений\n",
        "b = a[np.newaxis, :]\n",
        "print(b)\n",
        "b.shape"
      ]
    },
    {
      "cell_type": "code",
      "execution_count": 22,
      "metadata": {
        "colab": {
          "base_uri": "https://localhost:8080/"
        },
        "id": "MaqFUP6J0ZTs",
        "outputId": "7fc01d61-bbd1-4474-d008-802545bbe745"
      },
      "outputs": [
        {
          "name": "stdout",
          "output_type": "stream",
          "text": [
            "[[1]\n",
            " [2]\n",
            " [3]\n",
            " [4]\n",
            " [5]\n",
            " [6]\n",
            " [7]\n",
            " [8]\n",
            " [9]]\n",
            "[[[1]\n",
            "  [2]\n",
            "  [3]\n",
            "  [4]\n",
            "  [5]\n",
            "  [6]\n",
            "  [7]\n",
            "  [8]\n",
            "  [9]]]\n"
          ]
        },
        {
          "data": {
            "text/plain": [
              "(1, 9, 1)"
            ]
          },
          "execution_count": 22,
          "metadata": {},
          "output_type": "execute_result"
        }
      ],
      "source": [
        "b = a[:, np.newaxis]\n",
        "print(b)\n",
        "\n",
        "# Трёхмерная матрица\n",
        "c = a[np.newaxis, :, np.newaxis]\n",
        "print(c)\n",
        "c.shape"
      ]
    }
  ],
  "metadata": {
    "colab": {
      "provenance": []
    },
    "kernelspec": {
      "display_name": "Python 3",
      "language": "python",
      "name": "python3"
    },
    "language_info": {
      "codemirror_mode": {
        "name": "ipython",
        "version": 3
      },
      "file_extension": ".py",
      "mimetype": "text/x-python",
      "name": "python",
      "nbconvert_exporter": "python",
      "pygments_lexer": "ipython3",
      "version": "3.9.0"
    },
    "vscode": {
      "interpreter": {
        "hash": "b4a58c4e081b63d17341b9ee505aae4ebcd570f2594c9b4736973e41efa20ce6"
      }
    }
  },
  "nbformat": 4,
  "nbformat_minor": 0
}
