{
  "cells": [
    {
      "cell_type": "code",
      "execution_count": 1,
      "metadata": {
        "id": "1yjgTXlTJgF3"
      },
      "outputs": [],
      "source": [
        "# 3. Функции автозаполнения, создания матриц и числовых диапазонов\n",
        "import numpy as np"
      ]
    },
    {
      "cell_type": "code",
      "execution_count": null,
      "metadata": {
        "id": "7rhVPzx8JgF5",
        "outputId": "66749e92-4efa-4709-c5ee-ce5756930657"
      },
      "outputs": [
        {
          "name": "stdout",
          "output_type": "stream",
          "text": [
            "[0 0 0 0 0]\n",
            "<class 'numpy.ndarray'>\n",
            "[0 1 2 3 4 5 6 7 8 9]\n"
          ]
        }
      ],
      "source": [
        "# Массив из 5 нулей\n",
        "a = np.array([0]*5)\n",
        "print(a)\n",
        "print(type(a)) #numpy.ndarray\n",
        "# Создание массива в цикле\n",
        "c = np.array([x for x in range(10)]) # 0..9\n",
        "print(c)"
      ]
    },
    {
      "cell_type": "code",
      "execution_count": null,
      "metadata": {
        "id": "8wd756r9JgF8",
        "outputId": "f14cc92c-321f-4ac3-86f4-7bc699c9b244"
      },
      "outputs": [
        {
          "name": "stdout",
          "output_type": "stream",
          "text": [
            "[1.09880340e-311 1.09882502e-311 1.09882226e-311 1.09880337e-311\n",
            " 1.09882518e-311]\n"
          ]
        }
      ],
      "source": [
        "# Но быстрее через функции\n",
        "# Массив из 5 произвольных чисел\n",
        "a = np.empty(5)\n",
        "print(a)\n",
        "# print(type(a)) #numpy.ndarray"
      ]
    },
    {
      "cell_type": "code",
      "execution_count": null,
      "metadata": {
        "id": "Ik3_cjTeJgF9",
        "outputId": "64201705-09d9-4985-aa8b-f63a46a628b1"
      },
      "outputs": [
        {
          "name": "stdout",
          "output_type": "stream",
          "text": [
            "Массив из 5 int чисел:\n",
            " [-18608 -11172    517      0      0]\n"
          ]
        }
      ],
      "source": [
        "# Массив из 5 int чисел\n",
        "a = np.empty(5, dtype=\"int16\")\n",
        "print('Массив из 5 int чисел:\\n', a)"
      ]
    },
    {
      "cell_type": "code",
      "execution_count": null,
      "metadata": {
        "id": "GdAC6Ym8JgF9",
        "outputId": "09926948-430a-46d0-c641-8d9e595071e4"
      },
      "outputs": [
        {
          "name": "stdout",
          "output_type": "stream",
          "text": [
            "Двумерный массив:\n",
            " [[-18608 -11172]\n",
            " [   517      0]\n",
            " [     0      0]]\n"
          ]
        }
      ],
      "source": [
        "# Двумерный массив\n",
        "a = np.empty((3, 2), dtype=\"int16\")\n",
        "print('Двумерный массив:\\n', a)"
      ]
    },
    {
      "cell_type": "code",
      "execution_count": null,
      "metadata": {
        "id": "jU2od5HEJgF-",
        "outputId": "0ed51ad1-51a5-4e01-a2fa-773722478622"
      },
      "outputs": [
        {
          "name": "stdout",
          "output_type": "stream",
          "text": [
            "Единичная матрица:\n",
            " [[1. 0. 0.]\n",
            " [0. 1. 0.]\n",
            " [0. 0. 1.]]\n",
            "[[1. 0.]\n",
            " [0. 1.]\n",
            " [0. 0.]\n",
            " [0. 0.]]\n"
          ]
        }
      ],
      "source": [
        "# Единичная матрица\n",
        "a = np.eye(3)\n",
        "print('Единичная матрица:\\n', a)\n",
        "a = np.eye(4, 2)\n",
        "print(a)"
      ]
    },
    {
      "cell_type": "code",
      "execution_count": null,
      "metadata": {
        "id": "BXE0VkhpJgF_",
        "outputId": "f02b4ebb-c986-44fa-c8a9-9fc40185fbac"
      },
      "outputs": [
        {
          "name": "stdout",
          "output_type": "stream",
          "text": [
            "Квадратная матрица:\n",
            " [[1. 0. 0.]\n",
            " [0. 1. 0.]\n",
            " [0. 0. 1.]]\n"
          ]
        }
      ],
      "source": [
        "# Квадратная матрица\n",
        "a = np.identity(3)\n",
        "print('Квадратная матрица:\\n', a)"
      ]
    },
    {
      "cell_type": "code",
      "execution_count": null,
      "metadata": {
        "id": "YK8XPqZ6JgGA",
        "outputId": "5905b401-a75a-40be-be93-4b722a4ec7de"
      },
      "outputs": [
        {
          "name": "stdout",
          "output_type": "stream",
          "text": [
            "Трёхмерный Массив из нулей:\n",
            " [[[0. 0. 0. 0.]\n",
            "  [0. 0. 0. 0.]\n",
            "  [0. 0. 0. 0.]]\n",
            "\n",
            " [[0. 0. 0. 0.]\n",
            "  [0. 0. 0. 0.]\n",
            "  [0. 0. 0. 0.]]]\n"
          ]
        }
      ],
      "source": [
        "# Трёхмерный Массив из нулей \n",
        "a = np.zeros((2, 3, 4))\n",
        "print('Трёхмерный Массив из нулей:\\n', a)"
      ]
    },
    {
      "cell_type": "code",
      "execution_count": null,
      "metadata": {
        "id": "wsdlxwpfJgGB",
        "outputId": "844f168d-be46-4321-b6e2-cbe1a461c338"
      },
      "outputs": [
        {
          "name": "stdout",
          "output_type": "stream",
          "text": [
            "Массив из всех единиц. Двумерный:\n",
            " [[1 1 1]\n",
            " [1 1 1]\n",
            " [1 1 1]\n",
            " [1 1 1]]\n"
          ]
        }
      ],
      "source": [
        "# Массив из всех единиц. Двумерный\n",
        "a = np.ones([4, 3], dtype='int8')\n",
        "print('Массив из всех единиц. Двумерный:\\n', a)"
      ]
    },
    {
      "cell_type": "code",
      "execution_count": null,
      "metadata": {
        "id": "v5e82u_FJgGC",
        "outputId": "9fac5eba-ad6c-46a8-9aed-452af6579274"
      },
      "outputs": [
        {
          "name": "stdout",
          "output_type": "stream",
          "text": [
            "Массив из всех -1. Двумерный:\n",
            " [[-1 -1]\n",
            " [-1 -1]\n",
            " [-1 -1]]\n",
            "<class 'numpy.ndarray'>\n"
          ]
        }
      ],
      "source": [
        "# Массив из всех -1. Двумерный\n",
        "a = np.full((3, 2), -1)\n",
        "print('Массив из всех -1. Двумерный:\\n', a)\n",
        "print(type(a)) # numpy.ndarray"
      ]
    },
    {
      "cell_type": "markdown",
      "metadata": {
        "id": "5QuvtSJ_JgGE"
      },
      "source": [
        "# Матрицы ======================"
      ]
    },
    {
      "cell_type": "code",
      "execution_count": null,
      "metadata": {
        "id": "C9VGUxuhJgGG",
        "outputId": "801a3416-61fb-44ee-b20e-63bf514da91f"
      },
      "outputs": [
        {
          "name": "stdout",
          "output_type": "stream",
          "text": [
            "<class 'numpy.matrix'>\n",
            "Матрица из строки 1x4:\n",
            " [[1 2 3 4]]\n"
          ]
        }
      ],
      "source": [
        "\n",
        "# Создать матрицу из строки\n",
        "a = np.mat('1 2 3 4')\n",
        "a = np.mat('1, 2, 3, 4')\n",
        "\n",
        "print(type(a)) # numpy.matrix\n",
        "print('Матрица из строки 1x4:\\n', a)"
      ]
    },
    {
      "cell_type": "code",
      "execution_count": null,
      "metadata": {
        "id": "ZLDOQauoJgGH",
        "outputId": "ab3aef42-0242-43ca-aa5c-13fd7e532c09"
      },
      "outputs": [
        {
          "name": "stdout",
          "output_type": "stream",
          "text": [
            "Матрица из строки 2x2:\n",
            " [[1 2]\n",
            " [3 4]]\n"
          ]
        }
      ],
      "source": [
        "# Создать двумерную матрицу из строки\n",
        "a = np.mat('1 2; 3 4')\n",
        "print('Матрица из строки 2x2:\\n', a)"
      ]
    },
    {
      "cell_type": "code",
      "execution_count": null,
      "metadata": {
        "id": "kEjriJ--JgGH",
        "outputId": "c1b68579-406e-454c-a110-8b24e6c87da5"
      },
      "outputs": [
        {
          "name": "stdout",
          "output_type": "stream",
          "text": [
            "Матрица из списка 1x4:\n",
            " [[1 2 3 4]]\n"
          ]
        }
      ],
      "source": [
        "# Создать матрицу из списка\n",
        "a = np.mat([1, 2, 3, 4])\n",
        "print('Матрица из списка 1x4:\\n', a)"
      ]
    },
    {
      "cell_type": "code",
      "execution_count": null,
      "metadata": {
        "id": "bfPzWmLEJgGI",
        "outputId": "c6c2df05-56f4-4cf4-9785-4526b3cfe310"
      },
      "outputs": [
        {
          "name": "stdout",
          "output_type": "stream",
          "text": [
            "Матрица из списка 2x3:\n",
            " [[1 2 3]\n",
            " [4 5 6]]\n"
          ]
        }
      ],
      "source": [
        "# Создать двумерную матрицу из списка\n",
        "a = np.mat([(1, 2, 3), (4, 5, 6)])\n",
        "print('Матрица из списка 2x3:\\n', a)"
      ]
    },
    {
      "cell_type": "code",
      "execution_count": null,
      "metadata": {
        "id": "jKvRJ1FSJgGJ",
        "outputId": "db63fc09-2f68-4679-8f80-d41bbb71e115"
      },
      "outputs": [
        {
          "name": "stdout",
          "output_type": "stream",
          "text": [
            "Диагональная матрица из списка:\n",
            " [[1 0 0]\n",
            " [0 2 0]\n",
            " [0 0 3]]\n"
          ]
        }
      ],
      "source": [
        "# Создать диагональную матрицу \n",
        "a = np.diag([1, 2, 3])\n",
        "print('Диагональная матрица из списка:\\n', a)"
      ]
    },
    {
      "cell_type": "code",
      "execution_count": null,
      "metadata": {
        "id": "TmNlDwYhJgGJ",
        "outputId": "dfb01d54-1499-455d-f7b3-46552b02fe51"
      },
      "outputs": [
        {
          "data": {
            "text/plain": [
              "array([1, 5, 9])"
            ]
          },
          "execution_count": 17,
          "metadata": {},
          "output_type": "execute_result"
        }
      ],
      "source": [
        "# Здесь уже выделяет элементы с главной диагонали\n",
        "np.diag([(1,2,3), (4,5,6), (7,8,9)])"
      ]
    },
    {
      "cell_type": "code",
      "execution_count": null,
      "metadata": {
        "id": "97u9FOMSJgGK",
        "outputId": "36f5ed54-df96-4cb2-d83f-7d3573984377"
      },
      "outputs": [
        {
          "data": {
            "text/plain": [
              "array([[1, 0, 0, 0, 0, 0, 0, 0, 0],\n",
              "       [0, 2, 0, 0, 0, 0, 0, 0, 0],\n",
              "       [0, 0, 3, 0, 0, 0, 0, 0, 0],\n",
              "       [0, 0, 0, 4, 0, 0, 0, 0, 0],\n",
              "       [0, 0, 0, 0, 5, 0, 0, 0, 0],\n",
              "       [0, 0, 0, 0, 0, 6, 0, 0, 0],\n",
              "       [0, 0, 0, 0, 0, 0, 7, 0, 0],\n",
              "       [0, 0, 0, 0, 0, 0, 0, 8, 0],\n",
              "       [0, 0, 0, 0, 0, 0, 0, 0, 9]])"
            ]
          },
          "execution_count": 18,
          "metadata": {},
          "output_type": "execute_result"
        }
      ],
      "source": [
        "# Создать диагональную матрицу из двумерного списка\n",
        "np.diagflat([(1,2,3), (4,5,6), (7,8,9)])"
      ]
    },
    {
      "cell_type": "code",
      "execution_count": null,
      "metadata": {
        "colab": {
          "base_uri": "https://localhost:8080/"
        },
        "id": "TCtKovrJJgGK",
        "outputId": "10dcfde3-a3e4-4398-fb03-444c276d82f9"
      },
      "outputs": [
        {
          "output_type": "execute_result",
          "data": {
            "text/plain": [
              "array([[1., 0., 0., 0.],\n",
              "       [1., 1., 0., 0.],\n",
              "       [1., 1., 1., 0.],\n",
              "       [1., 1., 1., 1.]])"
            ]
          },
          "metadata": {},
          "execution_count": 3
        }
      ],
      "source": [
        "# создать треугольную матрицу\n",
        "np.tri(4)"
      ]
    },
    {
      "cell_type": "code",
      "source": [
        "np.tri(4,2)"
      ],
      "metadata": {
        "colab": {
          "base_uri": "https://localhost:8080/"
        },
        "id": "nXrSYmy_K-sV",
        "outputId": "34e705ab-fde1-4a5c-e736-934e9028f3ef"
      },
      "execution_count": null,
      "outputs": [
        {
          "output_type": "execute_result",
          "data": {
            "text/plain": [
              "array([[1., 0.],\n",
              "       [1., 1.],\n",
              "       [1., 1.],\n",
              "       [1., 1.]])"
            ]
          },
          "metadata": {},
          "execution_count": 4
        }
      ]
    },
    {
      "cell_type": "code",
      "source": [
        "#  Двумерный массив в треугольную матрицу\n",
        "a = np.array([(1,2,3), (4,5,6), (7,8,9)])\n",
        "print(a)\n",
        "print('Все, что над главной диаганалью становятся 0 ========================')\n",
        "print(np.tril(a))\n",
        "print('Все, что под главной диаганалью становятся 0 ========================')\n",
        "np.triu(a)"
      ],
      "metadata": {
        "colab": {
          "base_uri": "https://localhost:8080/"
        },
        "id": "Za38ssUyLNbS",
        "outputId": "9b537328-804e-4002-9694-c885a1d964a2"
      },
      "execution_count": null,
      "outputs": [
        {
          "output_type": "stream",
          "name": "stdout",
          "text": [
            "[[1 2 3]\n",
            " [4 5 6]\n",
            " [7 8 9]]\n",
            "Все, что над главной диаганалью становятся 0 ========================\n",
            "[[1 0 0]\n",
            " [4 5 0]\n",
            " [7 8 9]]\n",
            "Все, что под главной диаганалью становятся 0 ========================\n"
          ]
        },
        {
          "output_type": "execute_result",
          "data": {
            "text/plain": [
              "array([[1, 2, 3],\n",
              "       [0, 5, 6],\n",
              "       [0, 0, 9]])"
            ]
          },
          "metadata": {},
          "execution_count": 12
        }
      ]
    },
    {
      "cell_type": "markdown",
      "source": [
        "# Функции формирования числовых дипазонов"
      ],
      "metadata": {
        "id": "NwbrHAPiOZwt"
      }
    },
    {
      "cell_type": "code",
      "source": [
        "print(np.arange(5)) # Последнее значение не вкючает\n",
        "print(np.arange(2, 5)) # С 3-го по 5\n",
        "np.arange(1, 5, 0.5) # С шагом 0.5"
      ],
      "metadata": {
        "colab": {
          "base_uri": "https://localhost:8080/"
        },
        "id": "2SjGqiRuOXSJ",
        "outputId": "41595b79-39f5-4915-c0a4-17b4ba80b36c"
      },
      "execution_count": null,
      "outputs": [
        {
          "output_type": "stream",
          "name": "stdout",
          "text": [
            "[0 1 2 3 4]\n",
            "[2 3 4]\n"
          ]
        },
        {
          "output_type": "execute_result",
          "data": {
            "text/plain": [
              "array([1. , 1.5, 2. , 2.5, 3. , 3.5, 4. , 4.5])"
            ]
          },
          "metadata": {},
          "execution_count": 16
        }
      ]
    },
    {
      "cell_type": "code",
      "source": [
        "print(np.arange(0, np.pi, 0.1))\n",
        "print('cos')\n",
        "np.cos(np.arange(0, np.pi, 0.1))"
      ],
      "metadata": {
        "colab": {
          "base_uri": "https://localhost:8080/"
        },
        "id": "ENYaoTTYPMC1",
        "outputId": "02dfc817-b5b5-458f-8078-e6a1c40ea6cd"
      },
      "execution_count": null,
      "outputs": [
        {
          "output_type": "stream",
          "name": "stdout",
          "text": [
            "[0.  0.1 0.2 0.3 0.4 0.5 0.6 0.7 0.8 0.9 1.  1.1 1.2 1.3 1.4 1.5 1.6 1.7\n",
            " 1.8 1.9 2.  2.1 2.2 2.3 2.4 2.5 2.6 2.7 2.8 2.9 3.  3.1]\n",
            "cos\n"
          ]
        },
        {
          "output_type": "execute_result",
          "data": {
            "text/plain": [
              "array([ 1.        ,  0.99500417,  0.98006658,  0.95533649,  0.92106099,\n",
              "        0.87758256,  0.82533561,  0.76484219,  0.69670671,  0.62160997,\n",
              "        0.54030231,  0.45359612,  0.36235775,  0.26749883,  0.16996714,\n",
              "        0.0707372 , -0.02919952, -0.12884449, -0.22720209, -0.32328957,\n",
              "       -0.41614684, -0.5048461 , -0.58850112, -0.66627602, -0.73739372,\n",
              "       -0.80114362, -0.85688875, -0.90407214, -0.94222234, -0.97095817,\n",
              "       -0.9899925 , -0.99913515])"
            ]
          },
          "metadata": {},
          "execution_count": 19
        }
      ]
    },
    {
      "cell_type": "code",
      "source": [
        "# Поделить на пять равных отрезков\n",
        "v = np.linspace(0, 5, 5)\n",
        "print(type(v)) # ndarray\n",
        "v"
      ],
      "metadata": {
        "colab": {
          "base_uri": "https://localhost:8080/"
        },
        "id": "VCHjikDURONQ",
        "outputId": "9cbdc2a6-cd77-4e3a-f742-fd23ebaeab54"
      },
      "execution_count": null,
      "outputs": [
        {
          "output_type": "stream",
          "name": "stdout",
          "text": [
            "<class 'numpy.ndarray'>\n"
          ]
        },
        {
          "output_type": "execute_result",
          "data": {
            "text/plain": [
              "array([0.  , 1.25, 2.5 , 3.75, 5.  ])"
            ]
          },
          "metadata": {},
          "execution_count": 20
        }
      ]
    },
    {
      "cell_type": "code",
      "source": [
        "# Логорифмический масштаб. n=4\n",
        "np.logspace(0, 1, 4)"
      ],
      "metadata": {
        "colab": {
          "base_uri": "https://localhost:8080/"
        },
        "id": "MeKpEXgLRTYl",
        "outputId": "12f424f5-5c63-4e84-cdf0-1efe1cf13132"
      },
      "execution_count": null,
      "outputs": [
        {
          "output_type": "execute_result",
          "data": {
            "text/plain": [
              "array([ 1.        ,  2.15443469,  4.64158883, 10.        ])"
            ]
          },
          "metadata": {},
          "execution_count": 28
        }
      ]
    },
    {
      "cell_type": "code",
      "source": [
        "# Геометрическая прогрессия\n",
        "print(np.geomspace(1, 4, 3))\n",
        "np.geomspace(1, 16, 5)"
      ],
      "metadata": {
        "colab": {
          "base_uri": "https://localhost:8080/"
        },
        "id": "d9fKciGdRpQx",
        "outputId": "9998fdd0-9917-476f-abe4-3699f3759a28"
      },
      "execution_count": null,
      "outputs": [
        {
          "output_type": "stream",
          "name": "stdout",
          "text": [
            "[1. 2. 4.]\n"
          ]
        },
        {
          "output_type": "execute_result",
          "data": {
            "text/plain": [
              "array([ 1.,  2.,  4.,  8., 16.])"
            ]
          },
          "metadata": {},
          "execution_count": 27
        }
      ]
    },
    {
      "cell_type": "markdown",
      "source": [
        "# Функции формирования массивов на основе данных"
      ],
      "metadata": {
        "id": "TdmmxjpWtmfh"
      }
    },
    {
      "cell_type": "code",
      "source": [
        "# Сформировать двумерный массив\n",
        "a = np.array([ (1, 2), (3, 4) ])\n",
        "a"
      ],
      "metadata": {
        "colab": {
          "base_uri": "https://localhost:8080/"
        },
        "id": "JBc1pXVEtsMw",
        "outputId": "16b9812c-ee9d-471e-81a6-e7910aca852c"
      },
      "execution_count": 3,
      "outputs": [
        {
          "output_type": "execute_result",
          "data": {
            "text/plain": [
              "array([[1, 2],\n",
              "       [3, 4]])"
            ]
          },
          "metadata": {},
          "execution_count": 3
        }
      ]
    },
    {
      "cell_type": "code",
      "source": [
        "# Скопировать массив\n",
        "b = np.copy(a)\n",
        "print(b)\n",
        "# Если изменить массив 'b', то массив 'а' не изменится\n",
        "b[0] = 100\n",
        "print(b)\n",
        "a"
      ],
      "metadata": {
        "colab": {
          "base_uri": "https://localhost:8080/"
        },
        "id": "paiRGEafuI_T",
        "outputId": "9a16abbd-510b-47fe-8f01-d39ffede0a02"
      },
      "execution_count": 7,
      "outputs": [
        {
          "output_type": "stream",
          "name": "stdout",
          "text": [
            "[[1 2]\n",
            " [3 4]]\n",
            "[[100 100]\n",
            " [  3   4]]\n"
          ]
        },
        {
          "output_type": "execute_result",
          "data": {
            "text/plain": [
              "array([[1, 2],\n",
              "       [3, 4]])"
            ]
          },
          "metadata": {},
          "execution_count": 7
        }
      ]
    },
    {
      "cell_type": "code",
      "source": [
        "# x(строка) и y(столбец) яляются индексами (0, 1), (1, 1)\n",
        "def getRange(x, y):\n",
        "  return 100*x + y\n",
        "\n",
        "# fromfunction создаём массив размером 2x2 на основе getRange\n",
        "a = np.fromfunction(getRange, (2, 2))\n",
        "print(a)\n",
        "# ИЛИ лямбда функция\n",
        "np.fromfunction(lambda x, y: 100*x + y, (2, 2))"
      ],
      "metadata": {
        "colab": {
          "base_uri": "https://localhost:8080/"
        },
        "id": "qIGQwWhTvoNI",
        "outputId": "6c01d8de-b1a7-4a91-c430-57e44783c9b9"
      },
      "execution_count": 11,
      "outputs": [
        {
          "output_type": "stream",
          "name": "stdout",
          "text": [
            "[[  0.   1.]\n",
            " [100. 101.]]\n"
          ]
        },
        {
          "output_type": "execute_result",
          "data": {
            "text/plain": [
              "array([[  0.,   1.],\n",
              "       [100., 101.]])"
            ]
          },
          "metadata": {},
          "execution_count": 11
        }
      ]
    },
    {
      "cell_type": "code",
      "source": [
        "# Сформировать массив на основе любого итерируемого объекта (Строка)\n",
        "np.fromiter('hello', dtype='U1')"
      ],
      "metadata": {
        "colab": {
          "base_uri": "https://localhost:8080/"
        },
        "id": "sLPM8nhvx0U0",
        "outputId": "674f5072-60c0-4c98-b42d-c35ae5936687"
      },
      "execution_count": 12,
      "outputs": [
        {
          "output_type": "execute_result",
          "data": {
            "text/plain": [
              "array(['h', 'e', 'l', 'l', 'o'], dtype='<U1')"
            ]
          },
          "metadata": {},
          "execution_count": 12
        }
      ]
    },
    {
      "cell_type": "code",
      "source": [
        "def getRange(N):\n",
        "  for i in range(N):\n",
        "    yield i\n",
        "\n",
        "a = np.fromiter(getRange(4), dtype='int8')\n",
        "a"
      ],
      "metadata": {
        "colab": {
          "base_uri": "https://localhost:8080/"
        },
        "id": "3jnXq06-yMwT",
        "outputId": "f8f1ae7d-9d8e-4179-ce5c-7c41077ff482"
      },
      "execution_count": 15,
      "outputs": [
        {
          "output_type": "execute_result",
          "data": {
            "text/plain": [
              "array([0, 1, 2, 3], dtype=int8)"
            ]
          },
          "metadata": {},
          "execution_count": 15
        }
      ]
    },
    {
      "cell_type": "code",
      "source": [
        "# Сформировать из строки, разделитель sep=' '\n",
        "np.fromstring('1 2 3', dtype='int16', sep=' ')"
      ],
      "metadata": {
        "colab": {
          "base_uri": "https://localhost:8080/"
        },
        "id": "sN0IzIz7ys-g",
        "outputId": "b3bc8c01-3fe0-441d-8400-665912b78644"
      },
      "execution_count": 16,
      "outputs": [
        {
          "output_type": "execute_result",
          "data": {
            "text/plain": [
              "array([1, 2, 3], dtype=int16)"
            ]
          },
          "metadata": {},
          "execution_count": 16
        }
      ]
    }
  ],
  "metadata": {
    "kernelspec": {
      "display_name": "Python 3",
      "language": "python",
      "name": "python3"
    },
    "language_info": {
      "codemirror_mode": {
        "name": "ipython",
        "version": 3
      },
      "file_extension": ".py",
      "mimetype": "text/x-python",
      "name": "python",
      "nbconvert_exporter": "python",
      "pygments_lexer": "ipython3",
      "version": "3.9.0"
    },
    "orig_nbformat": 4,
    "vscode": {
      "interpreter": {
        "hash": "b4a58c4e081b63d17341b9ee505aae4ebcd570f2594c9b4736973e41efa20ce6"
      }
    },
    "colab": {
      "provenance": []
    }
  },
  "nbformat": 4,
  "nbformat_minor": 0
}