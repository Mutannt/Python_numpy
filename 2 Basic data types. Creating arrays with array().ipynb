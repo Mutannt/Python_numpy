{
 "cells": [
  {
   "cell_type": "code",
   "execution_count": 2,
   "metadata": {},
   "outputs": [],
   "source": [
    "# 2. Основные типы данных. Создание массивов функцией array()\n",
    "\n",
    "# Размерность матрицы можно определить\n",
    "# по числу первых открывающих квадратных скобок (например, две скобки [ [ - размерность 2х и т.д.). Это иногда\n",
    "# помогает быстро «на глаз» оценить структуру данных.\n",
    "#  alt + ctrl + l pep8 + установить  линтер, который укажет на оставшиеся проблемы pylint\n",
    "# shift + tab - Подсказка\n",
    "\n",
    "import numpy as np\n",
    "\n",
    "a = np.array([1, 2, 3, 4])\n",
    "# Вещественный тип\n",
    "a = np.array([1, 2, 3, 4], 'float64')  # ИЛИ a = np.array((1, 2, 3, 4), 'float64')\n",
    "# Все типы данных\n",
    "# print(np.sctypeDict)"
   ]
  },
  {
   "cell_type": "code",
   "execution_count": 7,
   "metadata": {},
   "outputs": [
    {
     "name": "stdout",
     "output_type": "stream",
     "text": [
      "Двумерный массив\n",
      "[[1 2]\n",
      " [3 4]\n",
      " [5 6]]\n",
      "a[0] 0-строка ============\n",
      "[1 2]\n",
      "a[0][1] 0-строка, 2 столбец============\n",
      "2\n"
     ]
    }
   ],
   "source": [
    "# Преобразовать в комплексное число\n",
    "np.complex64(5)\n",
    "# (5+0j)\n",
    "# Преобразовать массив, массив 'а' не изменяется, а создастся копия\n",
    "b = np.complex64(a)\n",
    "\n",
    "# Вывести числа от 0 до 5\n",
    "a = np.arange(6)\n",
    "a\n",
    "\n",
    "# Двумерный массив\n",
    "print(\"Двумерный массив\")\n",
    "a = np.array([[1, 2], [3, 4], [5, 6]])\n",
    "print(a)\n",
    "print(\"a[0] 0-строка ============\")\n",
    "print(a[0])\n",
    "print(\"a[0][1] 0-строка, 2 столбец============\")\n",
    "print(a[0][1])"
   ]
  },
  {
   "cell_type": "code",
   "execution_count": 5,
   "metadata": {},
   "outputs": [
    {
     "name": "stdout",
     "output_type": "stream",
     "text": [
      "Трёхмерный массив\n",
      "[[[ 1  2]\n",
      "  [ 3  4]]\n",
      "\n",
      " [[ 5  6]\n",
      "  [ 7  8]]\n",
      "\n",
      " [[ 9 10]\n",
      "  [11 12]]]\n",
      "b[0] ======================\n",
      "[[1 2]\n",
      " [3 4]]\n",
      "b[0][0] ======================\n",
      "[1 2]\n",
      "b[0][0][0 ======================\n",
      "1\n"
     ]
    }
   ],
   "source": [
    "# Трёхмерный массив\n",
    "print(\"Трёхмерный массив\")\n",
    "b = np.array([[[1, 2], [3, 4]], [[5, 6], [7, 8]], [[9, 10], [11 , 12]]])\n",
    "print(b)\n",
    "print(\"b[0] ======================\")\n",
    "print(b[0])\n",
    "print(\"b[0][0] ======================\")\n",
    "print(b[0][0])\n",
    "print(\"b[0][0][0 ======================\")\n",
    "print(b[0][0][0])"
   ]
  },
  {
   "cell_type": "code",
   "execution_count": 8,
   "metadata": {},
   "outputs": [
    {
     "name": "stdout",
     "output_type": "stream",
     "text": [
      "Исходный массив: \n"
     ]
    },
    {
     "data": {
      "text/plain": [
       "array([[-1. ,  2. ,  0. ,  4. ],\n",
       "       [ 4. , -0.5,  6. ,  0. ],\n",
       "       [ 2.6,  0. ,  7. ,  8. ],\n",
       "       [ 3. , -7. ,  4. ,  2. ]])"
      ]
     },
     "execution_count": 8,
     "metadata": {},
     "output_type": "execute_result"
    }
   ],
   "source": [
    "# Выбор элементов в массиве\n",
    "arr = np.array([[-1, 2, 0, 4],\n",
    "                [4, -0.5, 6, 0],\n",
    "                [2.6, 0, 7, 8],\n",
    "                [3, -7, 4, 2.0]])\n",
    "print(\"Исходный массив: \")\n",
    "arr"
   ]
  },
  {
   "cell_type": "code",
   "execution_count": 13,
   "metadata": {},
   "outputs": [
    {
     "name": "stdout",
     "output_type": "stream",
     "text": [
      "Вырезка(срез) [[-1.  0.]\n",
      " [ 4.  6.]]\n"
     ]
    }
   ],
   "source": [
    "# Вырезка (срезы) из массива [start:stop:step]  [start, stop)\n",
    "sliced_arr = arr[:2, ::2] # [:2 (с 1 до 2 строки), ::2 (с шагом 2)]\n",
    "# sliced_arr = arr[:, ::2] # [: (все строки), ::2 (с шагом 2)]\n",
    "# sliced_arr = arr[::2, ::2] # [::2 (с 0 с шагом 2), ::2 (с шагом 2)]\n",
    "print('Вырезка(срез)', sliced_arr)"
   ]
  },
  {
   "cell_type": "code",
   "execution_count": 14,
   "metadata": {},
   "outputs": [
    {
     "name": "stdout",
     "output_type": "stream",
     "text": [
      "\n",
      "Элементы по индексам (1, 3), (1, 2), (0, 1), (3, 0):\n",
      " [0. 6. 2. 3.]\n"
     ]
    }
   ],
   "source": [
    "# Выборка по индексам. 0 строка, 0 столбец есть\n",
    "Index_arr = arr[[1, 1, 0, 3], \n",
    "                [3, 2, 1, 0]]\n",
    "print(\"\\nЭлементы по индексам (1, 3), \"\n",
    "    \"(1, 2), (0, 1), (3, 0):\\n\", Index_arr)"
   ]
  }
 ],
 "metadata": {
  "kernelspec": {
   "display_name": "Python 3",
   "language": "python",
   "name": "python3"
  },
  "language_info": {
   "codemirror_mode": {
    "name": "ipython",
    "version": 3
   },
   "file_extension": ".py",
   "mimetype": "text/x-python",
   "name": "python",
   "nbconvert_exporter": "python",
   "pygments_lexer": "ipython3",
   "version": "3.9.0"
  },
  "orig_nbformat": 4,
  "vscode": {
   "interpreter": {
    "hash": "b4a58c4e081b63d17341b9ee505aae4ebcd570f2594c9b4736973e41efa20ce6"
   }
  }
 },
 "nbformat": 4,
 "nbformat_minor": 2
}
