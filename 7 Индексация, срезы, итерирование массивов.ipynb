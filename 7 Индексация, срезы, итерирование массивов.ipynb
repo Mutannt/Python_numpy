{
  "cells": [
    {
      "cell_type": "code",
      "execution_count": 1,
      "metadata": {
        "id": "JXxnPsFge0tg"
      },
      "outputs": [],
      "source": [
        "import numpy as np"
      ]
    },
    {
      "cell_type": "code",
      "execution_count": 2,
      "metadata": {
        "colab": {
          "base_uri": "https://localhost:8080/"
        },
        "id": "IiRLUPapfkva",
        "outputId": "c659f08c-d04d-45d4-d65f-d97f03c9936b"
      },
      "outputs": [
        {
          "name": "stdout",
          "output_type": "stream",
          "text": [
            "[ 0  1  2  3  4  5  6  7  8  9 10 11]\n",
            "11\n",
            "[100   1   2   3   4   5   6   7   8   9  10  11]\n"
          ]
        }
      ],
      "source": [
        "a = np.arange(12)\n",
        "print(a)\n",
        "print(a[-1]) # 11\n",
        "\n",
        "a[0] = 100\n",
        "print(a)"
      ]
    },
    {
      "cell_type": "markdown",
      "metadata": {
        "id": "mXffWWEriwhy"
      },
      "source": [
        "# Срезы df(старт, стоп не входит, шаг)"
      ]
    },
    {
      "cell_type": "code",
      "execution_count": 3,
      "metadata": {
        "colab": {
          "base_uri": "https://localhost:8080/"
        },
        "id": "nIPZI4TNi6pS",
        "outputId": "47f96e90-000e-4e57-9c05-b33c64888eaa"
      },
      "outputs": [
        {
          "name": "stdout",
          "output_type": "stream",
          "text": [
            "[2 3]\n",
            "[-100    3]\n",
            "[ 100    1 -100    3    4    5    6    7    8    9   10   11]\n"
          ]
        }
      ],
      "source": [
        "b = a[2:4] # Новое представление массива a\n",
        "print(b)\n",
        "\n",
        "b[0] = -100\n",
        "print(b)\n",
        "print(a) # Данные тоже изменились"
      ]
    },
    {
      "cell_type": "code",
      "execution_count": 4,
      "metadata": {
        "colab": {
          "base_uri": "https://localhost:8080/"
        },
        "id": "37f37b_lj5oF",
        "outputId": "08c73881-b7b4-4b9e-ae54-45fee9d5d5e3"
      },
      "outputs": [
        {
          "name": "stdout",
          "output_type": "stream",
          "text": [
            "[ 3  4  5  6  7  8  9 10 11]\n",
            "[ 100    1 -100    3    4]\n"
          ]
        }
      ],
      "source": [
        "print(a[3:]) # С 3 индекса\n",
        "print(a[:5]) # Первые 5"
      ]
    },
    {
      "cell_type": "code",
      "execution_count": 5,
      "metadata": {
        "colab": {
          "base_uri": "https://localhost:8080/"
        },
        "id": "M3oC4BZPl7IF",
        "outputId": "31f0b0ba-4905-4df7-d00c-c6ceb78e6c3b"
      },
      "outputs": [
        {
          "name": "stdout",
          "output_type": "stream",
          "text": [
            "[ 100 -100    4    6]\n"
          ]
        },
        {
          "data": {
            "text/plain": [
              "array([  11,   10,    9,    8,    7,    6,    5,    4,    3, -100,    1,\n",
              "        100])"
            ]
          },
          "execution_count": 5,
          "metadata": {},
          "output_type": "execute_result"
        }
      ],
      "source": [
        "# С шагом 2\n",
        "print(a[:8:2])\n",
        "# В обратном порядке\n",
        "a[::-1]"
      ]
    },
    {
      "cell_type": "code",
      "execution_count": 6,
      "metadata": {
        "colab": {
          "base_uri": "https://localhost:8080/"
        },
        "id": "41UZnL7vmgz_",
        "outputId": "04e1102d-4d93-431c-ea77-e93b6b799fd0"
      },
      "outputs": [
        {
          "name": "stdout",
          "output_type": "stream",
          "text": [
            "[-1 -2 -3 -4  4  5  6  7  8  9 10 11]\n",
            "[-1 -2 -3 -4 10  5 20  7 30  9 40 11]\n"
          ]
        }
      ],
      "source": [
        "# Сразу присваиваем новые значения\n",
        "a[:4] = [-1, -2, -3, -4]\n",
        "print(a)\n",
        "\n",
        "a[4::2] = np.array([10, 20, 30, 40])\n",
        "print(a)\n"
      ]
    },
    {
      "cell_type": "code",
      "execution_count": 7,
      "metadata": {
        "colab": {
          "base_uri": "https://localhost:8080/"
        },
        "id": "dVonvHtanQfx",
        "outputId": "88a04f18-e85c-4933-89dd-b5cbb8a9cbd4"
      },
      "outputs": [
        {
          "name": "stdout",
          "output_type": "stream",
          "text": [
            "-1 -2 -3 -4 10 5 20 7 30 9 40 11 "
          ]
        }
      ],
      "source": [
        "# Перебор в цикле\n",
        "for x in a:\n",
        "  print(x, sep=' ', end=' ')"
      ]
    },
    {
      "cell_type": "markdown",
      "metadata": {
        "id": "5CR53N2OnuEJ"
      },
      "source": [
        "# Индексация срезов для многомерных массивов\n",
        " "
      ]
    },
    {
      "cell_type": "code",
      "execution_count": 14,
      "metadata": {
        "colab": {
          "base_uri": "https://localhost:8080/"
        },
        "id": "f5VDgsEYpHEB",
        "outputId": "a9f9623b-c7fc-423a-a840-3fa2d8dcb454"
      },
      "outputs": [
        {
          "name": "stdout",
          "output_type": "stream",
          "text": [
            "x = [[  1   2   3]\n",
            " [ 10  20  30]\n",
            " [100 200 300]]\n",
            "x[1,1] = 20\n",
            "x[-1,-1] = 300\n",
            "x[0], x[0, :]-Первая строка [1 2 3]\n",
            "x[:,1]-Второй столбец [  2  20 200]\n"
          ]
        }
      ],
      "source": [
        "x = np.array( [(1,2,3), (10, 20, 30), (100, 200, 300)] )\n",
        "print('x =', x)\n",
        "\n",
        "print('x[1,1] =', x[1,1])\n",
        "print('x[-1,-1] =', x[-1,-1])\n",
        "print('x[0], x[0, :]-Первая строка', x[0]) # x[0,:]\n",
        "print('x[:,1]-Второй столбец', x[:,1])\n"
      ]
    },
    {
      "cell_type": "code",
      "execution_count": 9,
      "metadata": {
        "colab": {
          "base_uri": "https://localhost:8080/"
        },
        "id": "9xAGb5NWrLuT",
        "outputId": "b85ac412-67e2-4bc6-c88b-ecc3512094c4"
      },
      "outputs": [
        {
          "name": "stdout",
          "output_type": "stream",
          "text": [
            "1 2 3 \n",
            "10 20 30 \n",
            "100 200 300 \n"
          ]
        }
      ],
      "source": [
        "# В цикле\n",
        "for row in x:\n",
        "  for val in row:\n",
        "    print(val, end=' ')\n",
        "  print()"
      ]
    },
    {
      "cell_type": "code",
      "execution_count": 10,
      "metadata": {
        "colab": {
          "base_uri": "https://localhost:8080/"
        },
        "id": "k-OO9tfJxSQl",
        "outputId": "61531747-2468-452e-a48c-f05dbe0e58d7"
      },
      "outputs": [
        {
          "name": "stdout",
          "output_type": "stream",
          "text": [
            "1 2 3 10 20 30 100 200 300 "
          ]
        }
      ],
      "source": [
        "# ИЛИ x.flat - выстраивает элементы массива в вектор\n",
        "for val in x.flat:\n",
        "  print(val, end=' ')"
      ]
    },
    {
      "cell_type": "code",
      "execution_count": 16,
      "metadata": {
        "colab": {
          "base_uri": "https://localhost:8080/"
        },
        "id": "2c1EkfDQx3NM",
        "outputId": "6a1c8e85-c4d3-4457-b28e-59f2026f8b77"
      },
      "outputs": [
        {
          "name": "stdout",
          "output_type": "stream",
          "text": [
            "47\n",
            "[[[10 11 12]\n",
            "  [13 14 15]\n",
            "  [16 17 18]]\n",
            "\n",
            " [[37 38 39]\n",
            "  [40 41 42]\n",
            "  [43 44 45]]\n",
            "\n",
            " [[64 65 66]\n",
            "  [67 68 69]\n",
            "  [70 71 72]]]\n"
          ]
        }
      ],
      "source": [
        "# четырёхмерный массив\n",
        "a = np.arange(1, 82).reshape(3, 3, 3, 3)\n",
        "# print(a)\n",
        "\n",
        "print(a[1, 2, 0, 1]) # 47\n",
        "\n",
        "print(a[:, 1, :, :]) # Трёхмерная матрица"
      ]
    },
    {
      "cell_type": "code",
      "execution_count": 21,
      "metadata": {},
      "outputs": [
        {
          "name": "stdout",
          "output_type": "stream",
          "text": [
            "[[1 2 3]\n",
            " [4 5 6]\n",
            " [7 8 9]]\n",
            "=================\n",
            "[[ 5 14]\n",
            " [32 41]]\n",
            "=================\n",
            "[[ 5 14 23]\n",
            " [32 41 50]\n",
            " [59 68 77]]\n",
            "=================\n",
            "[[ 5 14 23]\n",
            " [32 41 50]\n",
            " [59 68 77]]\n"
          ]
        }
      ],
      "source": [
        "print(a[0,0]) # ИЛИ a[0, 0, :, :] Двумерная матрица\n",
        "print('=================')\n",
        "print(a[:, :, 1, 1])\n",
        "print('=================')\n",
        "print(a[0:2, 0:2, 1, 1])\n",
        "print('=================')\n",
        "print(a[..., 1, 1])"
      ]
    },
    {
      "attachments": {},
      "cell_type": "markdown",
      "metadata": {},
      "source": [
        "## Списочная индексация"
      ]
    },
    {
      "cell_type": "code",
      "execution_count": 26,
      "metadata": {},
      "outputs": [
        {
          "name": "stdout",
          "output_type": "stream",
          "text": [
            "[1 2 3 4 5 6 7 8]\n",
            "1\n",
            "[1]\n",
            "[100]\n",
            "[1 2 3 4 5 6 7 8]\n"
          ]
        }
      ],
      "source": [
        "a = np.arange(1,9)\n",
        "print(a)\n",
        "print(a[0])\n",
        "# Новый массив, копия, а не представление\n",
        "b = a[ [0] ] \n",
        "print(b)\n",
        "\n",
        "b[0] = 100\n",
        "print(b)\n",
        "print(a) # Не изменился"
      ]
    },
    {
      "cell_type": "code",
      "execution_count": 30,
      "metadata": {},
      "outputs": [
        {
          "name": "stdout",
          "output_type": "stream",
          "text": [
            "[1 2 8 6]\n",
            "[1 1 2 2 2 3 4 5 6 7 8]\n"
          ]
        }
      ],
      "source": [
        "b = a[ [0, 1, 7, 5] ] \n",
        "print(b)\n",
        "# Массив на основе другого\n",
        "print(a[ [0, 0, 1, 1, 1, 2, 3, 4, 5, 6, 7] ])"
      ]
    },
    {
      "cell_type": "code",
      "execution_count": 32,
      "metadata": {},
      "outputs": [
        {
          "name": "stdout",
          "output_type": "stream",
          "text": [
            "[1 1 2 2 2 3]\n",
            "[1 2 6]\n"
          ]
        }
      ],
      "source": [
        "# Из массива numpy хранящего индексы\n",
        "indxs = np.array([0, 0, 1, 1, 1, 2])\n",
        "print(a[indxs])\n",
        "# Выбрать элементы у которых значения True\n",
        "bindxs = [True, True, False, False, False, True, False, False]\n",
        "print(a[bindxs])"
      ]
    },
    {
      "cell_type": "code",
      "execution_count": 35,
      "metadata": {},
      "outputs": [
        {
          "name": "stdout",
          "output_type": "stream",
          "text": [
            "[False False False False False  True  True  True]\n",
            "[6 7 8]\n"
          ]
        },
        {
          "data": {
            "text/plain": [
              "array([6, 7, 8])"
            ]
          },
          "execution_count": 35,
          "metadata": {},
          "output_type": "execute_result"
        }
      ],
      "source": [
        "# Массив, где все элементы > 5\n",
        "i = a > 5\n",
        "print(i)\n",
        "print(a[i])\n",
        "# В одну строчку\n",
        "a[ a > 5 ]"
      ]
    },
    {
      "attachments": {},
      "cell_type": "markdown",
      "metadata": {},
      "source": [
        "### Индексация многомерных массивов"
      ]
    },
    {
      "cell_type": "code",
      "execution_count": 43,
      "metadata": {},
      "outputs": [
        {
          "name": "stdout",
          "output_type": "stream",
          "text": [
            "[1 2 3 4 5 6 7 8]\n",
            "Массив индексов: \n",
            " [[0 1]\n",
            " [2 3]]\n",
            "Двумерный массив: \n",
            " [[1 2]\n",
            " [3 4]]\n"
          ]
        }
      ],
      "source": [
        "a = np.arange(1,9)\n",
        "print(a)\n",
        "\n",
        "i = np.array([ [0, 1], [2, 3] ])\n",
        "print('Массив индексов: \\n', i) # Массив индексов\n",
        "print('Двумерный массив: \\n', a[i]) # Двумерный массив\n",
        "\n"
      ]
    },
    {
      "cell_type": "code",
      "execution_count": 52,
      "metadata": {},
      "outputs": [
        {
          "name": "stdout",
          "output_type": "stream",
          "text": [
            "Массив а\n",
            "[[ 1  2  3  4]\n",
            " [ 5  6  7  8]\n",
            " [ 9 10 11 12]] \n",
            "=================\n",
            "[[ 9 10 11 12]\n",
            " [ 5  6  7  8]\n",
            " [ 1  2  3  4]] \n",
            "=================\n",
            "[[[ 5  6  7  8]\n",
            "  [ 1  2  3  4]]\n",
            "\n",
            " [[ 9 10 11 12]\n",
            "  [ 5  6  7  8]]]\n"
          ]
        }
      ],
      "source": [
        "# Пример 2\n",
        "print('Массив а')\n",
        "a = np.arange(1, 13).reshape(3, 4)\n",
        "print(a, '\\n=================')\n",
        "\n",
        "# Ось 1, Последовательность строк\n",
        "indxs = [2, 1, 0]\n",
        "\n",
        "print(a[indxs], '\\n=================')\n",
        "\n",
        "# Трёхмерный массив\n",
        "indxs = np.array([ [1, 0], [2, 1] ])\n",
        "print(a[indxs])"
      ]
    },
    {
      "cell_type": "code",
      "execution_count": 59,
      "metadata": {},
      "outputs": [
        {
          "name": "stdout",
          "output_type": "stream",
          "text": [
            "Массив а\n",
            "[[ 1  2  3  4]\n",
            " [ 5  6  7  8]\n",
            " [ 9 10 11 12]] \n",
            "=================\n",
            "[2 7]\n",
            "=================\n",
            "[[ 2  3]\n",
            " [ 6  7]\n",
            " [10 11]]\n",
            "=================\n"
          ]
        },
        {
          "data": {
            "text/plain": [
              "array([2, 6])"
            ]
          },
          "execution_count": 59,
          "metadata": {},
          "output_type": "execute_result"
        }
      ],
      "source": [
        "# Если нужно выбрать элементы, а не строки, то нужно использовать 2 списка\n",
        "print('Массив а')\n",
        "a = np.arange(1, 13).reshape(3, 4)\n",
        "print(a, '\\n=================')\n",
        "\n",
        "i0 = [0, 1] # Первые 2 строки\n",
        "i1 = [1, 2] # Первый из 1 строки и 2 из 2 строки\n",
        "\n",
        "print(a[i0, i1]) # [2, 7]\n",
        "print('=================')\n",
        "# Все строки и 1 и 2 столбец\n",
        "print(a[:, i1])\n",
        "print('=================')\n",
        "\n",
        "print(a[i0, 1])"
      ]
    },
    {
      "cell_type": "code",
      "execution_count": 62,
      "metadata": {},
      "outputs": [
        {
          "name": "stdout",
          "output_type": "stream",
          "text": [
            "[0 1 2 3 4 5 6]\n"
          ]
        },
        {
          "data": {
            "text/plain": [
              "array([-1,  1,  2,  3, -2,  5, -3])"
            ]
          },
          "execution_count": 62,
          "metadata": {},
          "output_type": "execute_result"
        }
      ],
      "source": [
        "# Изменить значения массива\n",
        "a = np.arange(7)\n",
        "print(a)\n",
        "\n",
        "# Индексы элементов = новые значения элементов\n",
        "a[ [0, 4, 6] ] = [-1, -2, -3]\n",
        "\n",
        "a"
      ]
    },
    {
      "cell_type": "code",
      "execution_count": 65,
      "metadata": {},
      "outputs": [
        {
          "name": "stdout",
          "output_type": "stream",
          "text": [
            "[ 5  1  2  3 -2  5 -3]\n"
          ]
        },
        {
          "data": {
            "text/plain": [
              "array([ 6,  2,  3,  3, -2,  5, -3])"
            ]
          },
          "execution_count": 65,
          "metadata": {},
          "output_type": "execute_result"
        }
      ],
      "source": [
        "# Прибавится только 1 раз\n",
        "a[ [0, 0, 0] ] = a[ [0, 0, 0] ] + 3\n",
        "print(a)\n",
        "\n",
        "# Увеличить на 1\n",
        "a[ [0, 0, 1, 2] ] +=1\n",
        "a"
      ]
    }
  ],
  "metadata": {
    "colab": {
      "provenance": []
    },
    "kernelspec": {
      "display_name": "Python 3",
      "language": "python",
      "name": "python3"
    },
    "language_info": {
      "codemirror_mode": {
        "name": "ipython",
        "version": 3
      },
      "file_extension": ".py",
      "mimetype": "text/x-python",
      "name": "python",
      "nbconvert_exporter": "python",
      "pygments_lexer": "ipython3",
      "version": "3.9.0"
    },
    "vscode": {
      "interpreter": {
        "hash": "b4a58c4e081b63d17341b9ee505aae4ebcd570f2594c9b4736973e41efa20ce6"
      }
    }
  },
  "nbformat": 4,
  "nbformat_minor": 0
}
