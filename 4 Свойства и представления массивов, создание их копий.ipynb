{
  "cells": [
    {
      "cell_type": "code",
      "execution_count": 2,
      "metadata": {
        "id": "kOLeoGcZtYXS"
      },
      "outputs": [],
      "source": [
        "import numpy as np"
      ]
    },
    {
      "cell_type": "code",
      "execution_count": 3,
      "metadata": {
        "colab": {
          "base_uri": "https://localhost:8080/"
        },
        "id": "NF5quRNr1jTy",
        "outputId": "15cb0d2e-0f2a-49c2-a8a4-7c429a32435b"
      },
      "outputs": [
        {
          "data": {
            "text/plain": [
              "array([0.1, 0.2, 0.3, 0.4, 0.5, 0.6, 0.7, 0.8, 0.9])"
            ]
          },
          "execution_count": 3,
          "metadata": {},
          "output_type": "execute_result"
        }
      ],
      "source": [
        "a = np.arange(0.1, 1, 0.1)\n",
        "a\n",
        "# a.dtype # dtype('float64')"
      ]
    },
    {
      "cell_type": "code",
      "execution_count": 4,
      "metadata": {
        "colab": {
          "base_uri": "https://localhost:8080/"
        },
        "id": "kHyAX3lP1-XG",
        "outputId": "d7536ed4-bf23-4648-fe80-c0fdc9e9cb4b"
      },
      "outputs": [
        {
          "name": "stdout",
          "output_type": "stream",
          "text": [
            "[-102 -103 -103 -103 -103 -103  -71   63 -102 -103 -103 -103 -103 -103\n",
            "  -55   63   52   51   51   51   51   51  -45   63 -102 -103 -103 -103\n",
            " -103 -103  -39   63    0    0    0    0    0    0  -32   63   51   51\n",
            "   51   51   51   51  -29   63  103  102  102  102  102  102  -26   63\n",
            " -102 -103 -103 -103 -103 -103  -23   63  -51  -52  -52  -52  -52  -52\n",
            "  -20   63] \n",
            "==============\n",
            "72 \n",
            "==============\n"
          ]
        },
        {
          "data": {
            "text/plain": [
              "array([0.1, 0.2, 0.3, 0.4, 0.5, 0.6, 0.7, 0.8, 0.9])"
            ]
          },
          "execution_count": 4,
          "metadata": {},
          "output_type": "execute_result"
        }
      ],
      "source": [
        "# Поменять тип. Каждый элемент стал представляться 8-ю числами\n",
        "a.dtype = np.int8()\n",
        "print(a, \"\\n==============\")\n",
        "\n",
        "# Размер массива\n",
        "print(a.size, \"\\n==============\")\n",
        "# Вернём к первоначальному типу\n",
        "a.dtype = np.float64()\n",
        "a"
      ]
    },
    {
      "cell_type": "code",
      "execution_count": 5,
      "metadata": {
        "colab": {
          "base_uri": "https://localhost:8080/"
        },
        "id": "FKQf6CEi5bt2",
        "outputId": "a48834b3-0c31-4414-9fbb-e6d081a40242"
      },
      "outputs": [
        {
          "name": "stdout",
          "output_type": "stream",
          "text": [
            "[-1.58818684e-23  1.44999993e+00 -1.58818684e-23  1.57499993e+00\n",
            "  4.17232542e-08  1.64999998e+00 -1.58818684e-23  1.69999993e+00\n",
            "  0.00000000e+00  1.75000000e+00  4.17232506e-08  1.77499998e+00\n",
            "  2.72008320e+23  1.79999995e+00 -1.58818684e-23  1.82499993e+00\n",
            " -1.07374184e+08  1.84999990e+00] \n",
            "==============\n"
          ]
        },
        {
          "data": {
            "text/plain": [
              "18"
            ]
          },
          "execution_count": 5,
          "metadata": {},
          "output_type": "execute_result"
        }
      ],
      "source": [
        "# Элементов стало в 2 раза больше. 9*2\n",
        "a.dtype = np.float32()\n",
        "print(a, \"\\n==============\")\n",
        "a.size"
      ]
    },
    {
      "cell_type": "code",
      "execution_count": 6,
      "metadata": {
        "colab": {
          "base_uri": "https://localhost:8080/"
        },
        "id": "NjOXNYyg5u-9",
        "outputId": "27ddae53-6b23-49c4-aa7a-31fcb2c0d085"
      },
      "outputs": [
        {
          "name": "stdout",
          "output_type": "stream",
          "text": [
            "4\n"
          ]
        },
        {
          "data": {
            "text/plain": [
              "72"
            ]
          },
          "execution_count": 6,
          "metadata": {},
          "output_type": "execute_result"
        }
      ],
      "source": [
        "# Сколько байт занимает 1 элемент в массиве\n",
        "print(a.itemsize) # 4 байта\n",
        "# размер всего массива в байтах\n",
        "a.size * a.itemsize # 72 байта"
      ]
    },
    {
      "cell_type": "code",
      "execution_count": 7,
      "metadata": {
        "colab": {
          "base_uri": "https://localhost:8080/"
        },
        "id": "ecnp74NL8VWS",
        "outputId": "3131b70b-c3ec-4a75-b2d4-4f268ae13db0"
      },
      "outputs": [
        {
          "name": "stdout",
          "output_type": "stream",
          "text": [
            "[[[1. 1. 1. 1. 1.]\n",
            "  [1. 1. 1. 1. 1.]\n",
            "  [1. 1. 1. 1. 1.]\n",
            "  [1. 1. 1. 1. 1.]]\n",
            "\n",
            " [[1. 1. 1. 1. 1.]\n",
            "  [1. 1. 1. 1. 1.]\n",
            "  [1. 1. 1. 1. 1.]\n",
            "  [1. 1. 1. 1. 1.]]\n",
            "\n",
            " [[1. 1. 1. 1. 1.]\n",
            "  [1. 1. 1. 1. 1.]\n",
            "  [1. 1. 1. 1. 1.]\n",
            "  [1. 1. 1. 1. 1.]]]\n",
            "3\n",
            "(3, 4, 5)\n",
            "[1. 1. 1. 1. 1. 1. 1. 1. 1. 1. 1. 1. 1. 1. 1. 1. 1. 1. 1. 1. 1. 1. 1. 1.\n",
            " 1. 1. 1. 1. 1. 1. 1. 1. 1. 1. 1. 1. 1. 1. 1. 1. 1. 1. 1. 1. 1. 1. 1. 1.\n",
            " 1. 1. 1. 1. 1. 1. 1. 1. 1. 1. 1. 1.]\n"
          ]
        },
        {
          "data": {
            "text/plain": [
              "array([[1., 1., 1., 1., 1.],\n",
              "       [1., 1., 1., 1., 1.],\n",
              "       [1., 1., 1., 1., 1.],\n",
              "       [1., 1., 1., 1., 1.],\n",
              "       [1., 1., 1., 1., 1.],\n",
              "       [1., 1., 1., 1., 1.],\n",
              "       [1., 1., 1., 1., 1.],\n",
              "       [1., 1., 1., 1., 1.],\n",
              "       [1., 1., 1., 1., 1.],\n",
              "       [1., 1., 1., 1., 1.],\n",
              "       [1., 1., 1., 1., 1.],\n",
              "       [1., 1., 1., 1., 1.]])"
            ]
          },
          "execution_count": 7,
          "metadata": {},
          "output_type": "execute_result"
        }
      ],
      "source": [
        "# Как узнать размерность массива (кол-во осей)\n",
        "b = np.ones( (3, 4, 5) )\n",
        "print(b)\n",
        "print(b.ndim) # 3 оси\n",
        "print(b.shape) # Кол-во элементов по каждой оси\n",
        "# Поменять представление одних и тех же данных (текущего массива)\n",
        "# Одинарный массив\n",
        "# 3*4*5 = 60\n",
        "b.shape = 60\n",
        "print(b)\n",
        "# Двумерный массив\n",
        "b.shape = 12, 5\n",
        "b"
      ]
    },
    {
      "cell_type": "code",
      "execution_count": 8,
      "metadata": {
        "colab": {
          "base_uri": "https://localhost:8080/"
        },
        "id": "u_Wd8NSVFuaQ",
        "outputId": "58c475d7-e1e0-473c-c31d-e3cf2e586744"
      },
      "outputs": [
        {
          "name": "stdout",
          "output_type": "stream",
          "text": [
            "[[1. 1. 1. 1. 1.]\n",
            " [1. 1. 1. 1. 1.]\n",
            " [1. 1. 1. 1. 1.]\n",
            " [1. 1. 1. 1. 1.]\n",
            " [1. 1. 1. 1. 1.]\n",
            " [1. 1. 1. 1. 1.]\n",
            " [1. 1. 1. 1. 1.]\n",
            " [1. 1. 1. 1. 1.]\n",
            " [1. 1. 1. 1. 1.]\n",
            " [1. 1. 1. 1. 1.]\n",
            " [1. 1. 1. 1. 1.]\n",
            " [1. 1. 1. 1. 1.]]\n",
            "[[10.  1.  1.  1.  1.]\n",
            " [ 1.  1.  1.  1.  1.]\n",
            " [ 1.  1.  1.  1.  1.]\n",
            " [ 1.  1.  1.  1.  1.]\n",
            " [ 1.  1.  1.  1.  1.]\n",
            " [ 1.  1.  1.  1.  1.]\n",
            " [ 1.  1.  1.  1.  1.]\n",
            " [ 1.  1.  1.  1.  1.]\n",
            " [ 1.  1.  1.  1.  1.]\n",
            " [ 1.  1.  1.  1.  1.]\n",
            " [ 1.  1.  1.  1.  1.]\n",
            " [ 1.  1.  1.  1.  1.]]\n"
          ]
        },
        {
          "data": {
            "text/plain": [
              "array([[[10.,  1.,  1.,  1.,  1.,  1.,  1.,  1.,  1.,  1.],\n",
              "        [ 1.,  1.,  1.,  1.,  1.,  1.,  1.,  1.,  1.,  1.]],\n",
              "\n",
              "       [[ 1.,  1.,  1.,  1.,  1.,  1.,  1.,  1.,  1.,  1.],\n",
              "        [ 1.,  1.,  1.,  1.,  1.,  1.,  1.,  1.,  1.,  1.]],\n",
              "\n",
              "       [[ 1.,  1.,  1.,  1.,  1.,  1.,  1.,  1.,  1.,  1.],\n",
              "        [ 1.,  1.,  1.,  1.,  1.,  1.,  1.,  1.,  1.,  1.]]])"
            ]
          },
          "execution_count": 8,
          "metadata": {},
          "output_type": "execute_result"
        }
      ],
      "source": [
        "# Сформировать новый 3-x мерный массив измнив форму\n",
        "c = b.reshape(3, 2, 10) # Создаст новое представление, но не новые даные\n",
        "print(b)\n",
        "\n",
        "# Заменим первый элемент\n",
        "b[0][0] = 10\n",
        "print(b)\n",
        "c # В 'с' тоже стал 10"
      ]
    },
    {
      "cell_type": "code",
      "execution_count": 9,
      "metadata": {
        "colab": {
          "base_uri": "https://localhost:8080/"
        },
        "id": "lfVzvJISG6Ry",
        "outputId": "ba8a1e27-565a-4c0e-df5c-3891a3092240"
      },
      "outputs": [
        {
          "name": "stdout",
          "output_type": "stream",
          "text": [
            "1548104373792 1548103866768\n"
          ]
        }
      ],
      "source": [
        "# Разные представления, но одни и те же данные\n",
        "print(id(b), id(c))"
      ]
    },
    {
      "cell_type": "code",
      "execution_count": 10,
      "metadata": {
        "colab": {
          "base_uri": "https://localhost:8080/"
        },
        "id": "DnosqcnYSetg",
        "outputId": "7760afb0-df58-4ac3-f481-cd6e030df0d4"
      },
      "outputs": [
        {
          "data": {
            "text/plain": [
              "array([[10.,  1.,  1.,  1.,  1.,  1.,  1.,  1.,  1.,  1.,  1.,  1.],\n",
              "       [ 1.,  1.,  1.,  1.,  1.,  1.,  1.,  1.,  1.,  1.,  1.,  1.],\n",
              "       [ 1.,  1.,  1.,  1.,  1.,  1.,  1.,  1.,  1.,  1.,  1.,  1.],\n",
              "       [ 1.,  1.,  1.,  1.,  1.,  1.,  1.,  1.,  1.,  1.,  1.,  1.],\n",
              "       [ 1.,  1.,  1.,  1.,  1.,  1.,  1.,  1.,  1.,  1.,  1.,  1.]])"
            ]
          },
          "execution_count": 10,
          "metadata": {},
          "output_type": "execute_result"
        }
      ],
      "source": [
        "# Транспонирование (новое представление данных)\n",
        "d = b.T\n",
        "d\n",
        "# Любое изменение формы - создание нового представления"
      ]
    },
    {
      "cell_type": "code",
      "execution_count": 11,
      "metadata": {
        "colab": {
          "base_uri": "https://localhost:8080/"
        },
        "id": "EWsd3oefT-hs",
        "outputId": "e01edc80-0c57-47e1-eda4-a6aa336997be"
      },
      "outputs": [
        {
          "data": {
            "text/plain": [
              "array([[1, 2, 3],\n",
              "       [4, 5, 6],\n",
              "       [7, 8, 9]])"
            ]
          },
          "execution_count": 11,
          "metadata": {},
          "output_type": "execute_result"
        }
      ],
      "source": [
        "# Метод view() - Возвращает копию представления массива\n",
        "a = np.array([1, 2, 3, 4, 5, 6, 7, 8, 9])\n",
        "b = a # Ссылаются на один и тот же массив\n",
        "a.shape = 3, 3\n",
        "b # Тоже изменился"
      ]
    },
    {
      "cell_type": "code",
      "execution_count": 12,
      "metadata": {
        "colab": {
          "base_uri": "https://localhost:8080/"
        },
        "id": "ssL0PDxfU2J_",
        "outputId": "c779c247-8264-4129-e03c-656e15cd2dab"
      },
      "outputs": [
        {
          "data": {
            "text/plain": [
              "array([1, 2, 3, 4, 5, 6, 7, 8, 9])"
            ]
          },
          "execution_count": 12,
          "metadata": {},
          "output_type": "execute_result"
        }
      ],
      "source": [
        "# Создать копию представления\n",
        "a = np.array([1, 2, 3, 4, 5, 6, 7, 8, 9])\n",
        "b = a.view()\n",
        "a.shape = 3, 3\n",
        "b # Не изменился"
      ]
    },
    {
      "cell_type": "code",
      "execution_count": 13,
      "metadata": {
        "colab": {
          "base_uri": "https://localhost:8080/"
        },
        "id": "DB-zja5qVNbZ",
        "outputId": "6bcc88be-0a02-4ecd-aa2d-f6f827aed384"
      },
      "outputs": [
        {
          "name": "stdout",
          "output_type": "stream",
          "text": [
            "[1 2 3 4 5 6 7 8 9]\n"
          ]
        },
        {
          "data": {
            "text/plain": [
              "array([1, 2, 3, 4, 5, 6, 7, 8, 9])"
            ]
          },
          "execution_count": 13,
          "metadata": {},
          "output_type": "execute_result"
        }
      ],
      "source": [
        "# Создать копию данных массива\n",
        "a = np.array([1, 2, 3, 4, 5, 6, 7, 8, 9])\n",
        "# Создание копий\n",
        "b = np.array(a)\n",
        "c = a.copy()\n",
        "a[0] = 100\n",
        "print(b) # Не изменится\n",
        "c # Не изменится"
      ]
    }
  ],
  "metadata": {
    "colab": {
      "provenance": []
    },
    "kernelspec": {
      "display_name": "Python 3",
      "language": "python",
      "name": "python3"
    },
    "language_info": {
      "codemirror_mode": {
        "name": "ipython",
        "version": 3
      },
      "file_extension": ".py",
      "mimetype": "text/x-python",
      "name": "python",
      "nbconvert_exporter": "python",
      "pygments_lexer": "ipython3",
      "version": "3.9.0"
    },
    "vscode": {
      "interpreter": {
        "hash": "b4a58c4e081b63d17341b9ee505aae4ebcd570f2594c9b4736973e41efa20ce6"
      }
    }
  },
  "nbformat": 4,
  "nbformat_minor": 0
}
