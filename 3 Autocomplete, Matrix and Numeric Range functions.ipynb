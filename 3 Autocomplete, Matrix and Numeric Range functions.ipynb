{
 "cells": [
  {
   "cell_type": "code",
   "execution_count": 1,
   "metadata": {},
   "outputs": [],
   "source": [
    "# 3. Функции автозаполнения, создания матриц и числовых диапазонов\n",
    "import numpy as np"
   ]
  },
  {
   "cell_type": "code",
   "execution_count": 2,
   "metadata": {},
   "outputs": [
    {
     "name": "stdout",
     "output_type": "stream",
     "text": [
      "[0 0 0 0 0]\n",
      "<class 'numpy.ndarray'>\n",
      "[0 1 2 3 4 5 6 7 8 9]\n"
     ]
    }
   ],
   "source": [
    "# Массив из 5 нулей\n",
    "a = np.array([0]*5)\n",
    "print(a)\n",
    "print(type(a)) #numpy.ndarray\n",
    "# Создание массива в цикле\n",
    "c = np.array([x for x in range(10)]) # 0..9\n",
    "print(c)"
   ]
  },
  {
   "cell_type": "code",
   "execution_count": 3,
   "metadata": {},
   "outputs": [
    {
     "name": "stdout",
     "output_type": "stream",
     "text": [
      "[1.09880340e-311 1.09882502e-311 1.09882226e-311 1.09880337e-311\n",
      " 1.09882518e-311]\n"
     ]
    }
   ],
   "source": [
    "# Но быстрее через функции\n",
    "# Массив из 5 произвольных чисел\n",
    "a = np.empty(5)\n",
    "print(a)\n",
    "# print(type(a)) #numpy.ndarray"
   ]
  },
  {
   "cell_type": "code",
   "execution_count": 4,
   "metadata": {},
   "outputs": [
    {
     "name": "stdout",
     "output_type": "stream",
     "text": [
      "Массив из 5 int чисел:\n",
      " [-18608 -11172    517      0      0]\n"
     ]
    }
   ],
   "source": [
    "# Массив из 5 int чисел\n",
    "a = np.empty(5, dtype=\"int16\")\n",
    "print('Массив из 5 int чисел:\\n', a)"
   ]
  },
  {
   "cell_type": "code",
   "execution_count": 5,
   "metadata": {},
   "outputs": [
    {
     "name": "stdout",
     "output_type": "stream",
     "text": [
      "Двумерный массив:\n",
      " [[-18608 -11172]\n",
      " [   517      0]\n",
      " [     0      0]]\n"
     ]
    }
   ],
   "source": [
    "# Двумерный массив\n",
    "a = np.empty((3, 2), dtype=\"int16\")\n",
    "print('Двумерный массив:\\n', a)"
   ]
  },
  {
   "cell_type": "code",
   "execution_count": 6,
   "metadata": {},
   "outputs": [
    {
     "name": "stdout",
     "output_type": "stream",
     "text": [
      "Единичная матрица:\n",
      " [[1. 0. 0.]\n",
      " [0. 1. 0.]\n",
      " [0. 0. 1.]]\n",
      "[[1. 0.]\n",
      " [0. 1.]\n",
      " [0. 0.]\n",
      " [0. 0.]]\n"
     ]
    }
   ],
   "source": [
    "# Единичная матрица\n",
    "a = np.eye(3)\n",
    "print('Единичная матрица:\\n', a)\n",
    "a = np.eye(4, 2)\n",
    "print(a)"
   ]
  },
  {
   "cell_type": "code",
   "execution_count": 31,
   "metadata": {},
   "outputs": [
    {
     "name": "stdout",
     "output_type": "stream",
     "text": [
      "Квадратная матрица:\n",
      " [[1. 0. 0.]\n",
      " [0. 1. 0.]\n",
      " [0. 0. 1.]]\n"
     ]
    }
   ],
   "source": [
    "# Квадратная матрица\n",
    "a = np.identity(3)\n",
    "print('Квадратная матрица:\\n', a)"
   ]
  },
  {
   "cell_type": "code",
   "execution_count": 8,
   "metadata": {},
   "outputs": [
    {
     "name": "stdout",
     "output_type": "stream",
     "text": [
      "Трёхмерный Массив из нулей:\n",
      " [[[0. 0. 0. 0.]\n",
      "  [0. 0. 0. 0.]\n",
      "  [0. 0. 0. 0.]]\n",
      "\n",
      " [[0. 0. 0. 0.]\n",
      "  [0. 0. 0. 0.]\n",
      "  [0. 0. 0. 0.]]]\n"
     ]
    }
   ],
   "source": [
    "# Трёхмерный Массив из нулей \n",
    "a = np.zeros((2, 3, 4))\n",
    "print('Трёхмерный Массив из нулей:\\n', a)"
   ]
  },
  {
   "cell_type": "code",
   "execution_count": 9,
   "metadata": {},
   "outputs": [
    {
     "name": "stdout",
     "output_type": "stream",
     "text": [
      "Массив из всех единиц. Двумерный:\n",
      " [[1 1 1]\n",
      " [1 1 1]\n",
      " [1 1 1]\n",
      " [1 1 1]]\n"
     ]
    }
   ],
   "source": [
    "# Массив из всех единиц. Двумерный\n",
    "a = np.ones([4, 3], dtype='int8')\n",
    "print('Массив из всех единиц. Двумерный:\\n', a)"
   ]
  },
  {
   "cell_type": "code",
   "execution_count": 10,
   "metadata": {},
   "outputs": [
    {
     "name": "stdout",
     "output_type": "stream",
     "text": [
      "Массив из всех -1. Двумерный:\n",
      " [[-1 -1]\n",
      " [-1 -1]\n",
      " [-1 -1]]\n",
      "<class 'numpy.ndarray'>\n"
     ]
    }
   ],
   "source": [
    "# Массив из всех -1. Двумерный\n",
    "a = np.full((3, 2), -1)\n",
    "print('Массив из всех -1. Двумерный:\\n', a)\n",
    "print(type(a)) # numpy.ndarray"
   ]
  },
  {
   "cell_type": "code",
   "execution_count": 29,
   "metadata": {},
   "outputs": [
    {
     "name": "stdout",
     "output_type": "stream",
     "text": [
      "<class 'numpy.ndarray'>\n"
     ]
    },
    {
     "data": {
      "text/plain": [
       "array([0.  , 1.25, 2.5 , 3.75, 5.  ])"
      ]
     },
     "execution_count": 29,
     "metadata": {},
     "output_type": "execute_result"
    }
   ],
   "source": [
    "# Поделить на пять равных отрезков\n",
    "v = np.linspace(0, 5, 5)\n",
    "print(type(v)) # ndarray\n",
    "v"
   ]
  },
  {
   "attachments": {},
   "cell_type": "markdown",
   "metadata": {},
   "source": [
    "# Матрицы ======================"
   ]
  },
  {
   "cell_type": "code",
   "execution_count": 11,
   "metadata": {},
   "outputs": [
    {
     "name": "stdout",
     "output_type": "stream",
     "text": [
      "<class 'numpy.matrix'>\n",
      "Матрица из строки 1x4:\n",
      " [[1 2 3 4]]\n"
     ]
    }
   ],
   "source": [
    "\n",
    "# Создать матрицу из строки\n",
    "a = np.mat('1 2 3 4')\n",
    "a = np.mat('1, 2, 3, 4')\n",
    "\n",
    "print(type(a)) # numpy.matrix\n",
    "print('Матрица из строки 1x4:\\n', a)"
   ]
  },
  {
   "cell_type": "code",
   "execution_count": 12,
   "metadata": {},
   "outputs": [
    {
     "name": "stdout",
     "output_type": "stream",
     "text": [
      "Матрица из строки 2x2:\n",
      " [[1 2]\n",
      " [3 4]]\n"
     ]
    }
   ],
   "source": [
    "# Создать двумерную матрицу из строки\n",
    "a = np.mat('1 2; 3 4')\n",
    "print('Матрица из строки 2x2:\\n', a)"
   ]
  },
  {
   "cell_type": "code",
   "execution_count": 13,
   "metadata": {},
   "outputs": [
    {
     "name": "stdout",
     "output_type": "stream",
     "text": [
      "Матрица из списка 1x4:\n",
      " [[1 2 3 4]]\n"
     ]
    }
   ],
   "source": [
    "# Создать матрицу из списка\n",
    "a = np.mat([1, 2, 3, 4])\n",
    "print('Матрица из списка 1x4:\\n', a)"
   ]
  },
  {
   "cell_type": "code",
   "execution_count": 14,
   "metadata": {},
   "outputs": [
    {
     "name": "stdout",
     "output_type": "stream",
     "text": [
      "Матрица из списка 2x3:\n",
      " [[1 2 3]\n",
      " [4 5 6]]\n"
     ]
    }
   ],
   "source": [
    "# Создать двумерную матрицу из списка\n",
    "a = np.mat([(1, 2, 3), (4, 5, 6)])\n",
    "print('Матрица из списка 2x3:\\n', a)"
   ]
  },
  {
   "cell_type": "code",
   "execution_count": 15,
   "metadata": {},
   "outputs": [
    {
     "name": "stdout",
     "output_type": "stream",
     "text": [
      "Диагональная матрица из списка:\n",
      " [[1 0 0]\n",
      " [0 2 0]\n",
      " [0 0 3]]\n"
     ]
    }
   ],
   "source": [
    "# Создать диагональную матрицу \n",
    "a = np.diag([1, 2, 3])\n",
    "print('Диагональная матрица из списка:\\n', a)"
   ]
  },
  {
   "cell_type": "code",
   "execution_count": 17,
   "metadata": {},
   "outputs": [
    {
     "data": {
      "text/plain": [
       "array([1, 5, 9])"
      ]
     },
     "execution_count": 17,
     "metadata": {},
     "output_type": "execute_result"
    }
   ],
   "source": [
    "# Здесь уже выделяет элементы с главной диагонали\n",
    "np.diag([(1,2,3), (4,5,6), (7,8,9)])"
   ]
  },
  {
   "cell_type": "code",
   "execution_count": 18,
   "metadata": {},
   "outputs": [
    {
     "data": {
      "text/plain": [
       "array([[1, 0, 0, 0, 0, 0, 0, 0, 0],\n",
       "       [0, 2, 0, 0, 0, 0, 0, 0, 0],\n",
       "       [0, 0, 3, 0, 0, 0, 0, 0, 0],\n",
       "       [0, 0, 0, 4, 0, 0, 0, 0, 0],\n",
       "       [0, 0, 0, 0, 5, 0, 0, 0, 0],\n",
       "       [0, 0, 0, 0, 0, 6, 0, 0, 0],\n",
       "       [0, 0, 0, 0, 0, 0, 7, 0, 0],\n",
       "       [0, 0, 0, 0, 0, 0, 0, 8, 0],\n",
       "       [0, 0, 0, 0, 0, 0, 0, 0, 9]])"
      ]
     },
     "execution_count": 18,
     "metadata": {},
     "output_type": "execute_result"
    }
   ],
   "source": [
    "# Создать диагональную матрицу из двумерного списка\n",
    "np.diagflat([(1,2,3), (4,5,6), (7,8,9)])"
   ]
  },
  {
   "cell_type": "code",
   "execution_count": null,
   "metadata": {},
   "outputs": [],
   "source": []
  }
 ],
 "metadata": {
  "kernelspec": {
   "display_name": "Python 3",
   "language": "python",
   "name": "python3"
  },
  "language_info": {
   "codemirror_mode": {
    "name": "ipython",
    "version": 3
   },
   "file_extension": ".py",
   "mimetype": "text/x-python",
   "name": "python",
   "nbconvert_exporter": "python",
   "pygments_lexer": "ipython3",
   "version": "3.9.0 (tags/v3.9.0:9cf6752, Oct  5 2020, 15:34:40) [MSC v.1927 64 bit (AMD64)]"
  },
  "orig_nbformat": 4,
  "vscode": {
   "interpreter": {
    "hash": "b4a58c4e081b63d17341b9ee505aae4ebcd570f2594c9b4736973e41efa20ce6"
   }
  }
 },
 "nbformat": 4,
 "nbformat_minor": 2
}
