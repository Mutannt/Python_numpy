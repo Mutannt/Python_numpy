{
  "nbformat": 4,
  "nbformat_minor": 0,
  "metadata": {
    "colab": {
      "provenance": []
    },
    "kernelspec": {
      "name": "python3",
      "display_name": "Python 3"
    },
    "language_info": {
      "name": "python"
    }
  },
  "cells": [
    {
      "cell_type": "code",
      "execution_count": 2,
      "metadata": {
        "id": "xQc7vE7k3vR4"
      },
      "outputs": [],
      "source": [
        "import numpy as np"
      ]
    },
    {
      "cell_type": "code",
      "source": [
        "a = np.array([(1, 2), (3, 4)])\n",
        "b = np.array([(5, 6), (7, 8)])\n",
        "print(a)\n",
        "print(b)"
      ],
      "metadata": {
        "colab": {
          "base_uri": "https://localhost:8080/"
        },
        "id": "6Ns0e2R6A4A-",
        "outputId": "25f7e82e-6af7-4054-a0ea-53d364b8cb60"
      },
      "execution_count": 3,
      "outputs": [
        {
          "output_type": "stream",
          "name": "stdout",
          "text": [
            "[[1 2]\n",
            " [3 4]]\n",
            "[[5 6]\n",
            " [7 8]]\n"
          ]
        }
      ]
    },
    {
      "cell_type": "code",
      "source": [
        "# Объединение массивов. Размерности должны совпадать\n",
        "# По горизонтали\n",
        "np.hstack([a, b]) # Копия массива"
      ],
      "metadata": {
        "colab": {
          "base_uri": "https://localhost:8080/"
        },
        "id": "ySLYEu2dBq3g",
        "outputId": "aa61439c-b560-483c-b0a5-b91f4095f181"
      },
      "execution_count": 4,
      "outputs": [
        {
          "output_type": "execute_result",
          "data": {
            "text/plain": [
              "array([[1, 2, 5, 6],\n",
              "       [3, 4, 7, 8]])"
            ]
          },
          "metadata": {},
          "execution_count": 4
        }
      ]
    },
    {
      "cell_type": "code",
      "source": [
        "# По вертикали\n",
        "print(np.vstack([a, b]))\n",
        "np.vstack([a, b, b])"
      ],
      "metadata": {
        "colab": {
          "base_uri": "https://localhost:8080/"
        },
        "id": "up1pQSD2B_ii",
        "outputId": "f1c588f4-3af8-49da-e87b-61d77907e134"
      },
      "execution_count": 5,
      "outputs": [
        {
          "output_type": "stream",
          "name": "stdout",
          "text": [
            "[[1 2]\n",
            " [3 4]\n",
            " [5 6]\n",
            " [7 8]]\n"
          ]
        },
        {
          "output_type": "execute_result",
          "data": {
            "text/plain": [
              "array([[1, 2],\n",
              "       [3, 4],\n",
              "       [5, 6],\n",
              "       [7, 8],\n",
              "       [5, 6],\n",
              "       [7, 8]])"
            ]
          },
          "metadata": {},
          "execution_count": 5
        }
      ]
    },
    {
      "cell_type": "code",
      "source": [
        "# С многомерными массивами\n",
        "#  np.fromiter создание массива\n",
        "a = np.fromiter(range(18), dtype='int32')\n",
        "b = np.fromiter(range(18, 36), dtype='int32')\n",
        "a.resize(3, 3, 2)\n",
        "b.resize(3, 3, 2)\n",
        "print(a)\n",
        "print(\"===========\")\n",
        "print(b)"
      ],
      "metadata": {
        "colab": {
          "base_uri": "https://localhost:8080/"
        },
        "id": "cndWRezpCe3H",
        "outputId": "0b341589-7329-4258-d1c2-079d4770570e"
      },
      "execution_count": 6,
      "outputs": [
        {
          "output_type": "stream",
          "name": "stdout",
          "text": [
            "[[[ 0  1]\n",
            "  [ 2  3]\n",
            "  [ 4  5]]\n",
            "\n",
            " [[ 6  7]\n",
            "  [ 8  9]\n",
            "  [10 11]]\n",
            "\n",
            " [[12 13]\n",
            "  [14 15]\n",
            "  [16 17]]]\n",
            "===========\n",
            "[[[18 19]\n",
            "  [20 21]\n",
            "  [22 23]]\n",
            "\n",
            " [[24 25]\n",
            "  [26 27]\n",
            "  [28 29]]\n",
            "\n",
            " [[30 31]\n",
            "  [32 33]\n",
            "  [34 35]]]\n"
          ]
        }
      ]
    },
    {
      "cell_type": "code",
      "source": [
        "# Объединение\n",
        "c = np.hstack([a, b])\n",
        "print(c)\n",
        "c.shape"
      ],
      "metadata": {
        "colab": {
          "base_uri": "https://localhost:8080/"
        },
        "id": "I_sLBiCrDGui",
        "outputId": "4e5ea59b-1ceb-4bae-eb16-5f5fb1a9c848"
      },
      "execution_count": 7,
      "outputs": [
        {
          "output_type": "stream",
          "name": "stdout",
          "text": [
            "[[[ 0  1]\n",
            "  [ 2  3]\n",
            "  [ 4  5]\n",
            "  [18 19]\n",
            "  [20 21]\n",
            "  [22 23]]\n",
            "\n",
            " [[ 6  7]\n",
            "  [ 8  9]\n",
            "  [10 11]\n",
            "  [24 25]\n",
            "  [26 27]\n",
            "  [28 29]]\n",
            "\n",
            " [[12 13]\n",
            "  [14 15]\n",
            "  [16 17]\n",
            "  [30 31]\n",
            "  [32 33]\n",
            "  [34 35]]]\n"
          ]
        },
        {
          "output_type": "execute_result",
          "data": {
            "text/plain": [
              "(3, 6, 2)"
            ]
          },
          "metadata": {},
          "execution_count": 7
        }
      ]
    },
    {
      "cell_type": "code",
      "source": [
        "# По вертикаи\n",
        "d = np.vstack([a, b])\n",
        "print(d)\n",
        "d.shape"
      ],
      "metadata": {
        "colab": {
          "base_uri": "https://localhost:8080/"
        },
        "id": "n0E7DQFQrHt2",
        "outputId": "26899a77-5309-4184-9443-7abadb568ef7"
      },
      "execution_count": 8,
      "outputs": [
        {
          "output_type": "stream",
          "name": "stdout",
          "text": [
            "[[[ 0  1]\n",
            "  [ 2  3]\n",
            "  [ 4  5]]\n",
            "\n",
            " [[ 6  7]\n",
            "  [ 8  9]\n",
            "  [10 11]]\n",
            "\n",
            " [[12 13]\n",
            "  [14 15]\n",
            "  [16 17]]\n",
            "\n",
            " [[18 19]\n",
            "  [20 21]\n",
            "  [22 23]]\n",
            "\n",
            " [[24 25]\n",
            "  [26 27]\n",
            "  [28 29]]\n",
            "\n",
            " [[30 31]\n",
            "  [32 33]\n",
            "  [34 35]]]\n"
          ]
        },
        {
          "output_type": "execute_result",
          "data": {
            "text/plain": [
              "(6, 3, 2)"
            ]
          },
          "metadata": {},
          "execution_count": 8
        }
      ]
    },
    {
      "cell_type": "code",
      "source": [
        "a = np.fromstring('1 2 3 4', sep=' ')\n",
        "b = np.fromstring('5 6 7 8', sep=' ')\n",
        "print(a)\n",
        "print(b)\n",
        "\n",
        "print(np.hstack([a, b]))\n",
        "np.vstack([a, b])"
      ],
      "metadata": {
        "colab": {
          "base_uri": "https://localhost:8080/"
        },
        "id": "ZHosXbngr12f",
        "outputId": "26d7f8f9-b751-44c7-ff1a-13fafcba9e61"
      },
      "execution_count": 12,
      "outputs": [
        {
          "output_type": "stream",
          "name": "stdout",
          "text": [
            "[1. 2. 3. 4.]\n",
            "[5. 6. 7. 8.]\n",
            "[1. 2. 3. 4. 5. 6. 7. 8.]\n"
          ]
        },
        {
          "output_type": "execute_result",
          "data": {
            "text/plain": [
              "array([[1., 2., 3., 4.],\n",
              "       [5., 6., 7., 8.]])"
            ]
          },
          "metadata": {},
          "execution_count": 12
        }
      ]
    },
    {
      "cell_type": "code",
      "source": [
        "# Объединение стобцами np.column_stack([a, b])\n",
        "np.column_stack([a, b])"
      ],
      "metadata": {
        "colab": {
          "base_uri": "https://localhost:8080/"
        },
        "id": "zBT4XVk1sawh",
        "outputId": "81090f6d-09dc-4d84-944d-da579d342a0a"
      },
      "execution_count": 13,
      "outputs": [
        {
          "output_type": "execute_result",
          "data": {
            "text/plain": [
              "array([[1., 5.],\n",
              "       [2., 6.],\n",
              "       [3., 7.],\n",
              "       [4., 8.]])"
            ]
          },
          "metadata": {},
          "execution_count": 13
        }
      ]
    },
    {
      "cell_type": "code",
      "source": [
        "# Объединение строками\n",
        "np.row_stack([a, b])"
      ],
      "metadata": {
        "colab": {
          "base_uri": "https://localhost:8080/"
        },
        "id": "1y6-dEvgtZz8",
        "outputId": "4a5f9d3f-9c2b-4dda-d70a-eee3b1a10579"
      },
      "execution_count": 14,
      "outputs": [
        {
          "output_type": "execute_result",
          "data": {
            "text/plain": [
              "array([[1., 2., 3., 4.],\n",
              "       [5., 6., 7., 8.]])"
            ]
          },
          "metadata": {},
          "execution_count": 14
        }
      ]
    },
    {
      "cell_type": "code",
      "source": [
        "# Но эти функции объединение делают либо по axis=0, либо по axis=1\n",
        "# Если хочешь по другой оси надо:\n",
        "a = np.arange(1, 13)\n",
        "b = np.arange(13, 26)\n",
        "a.resize(3, 3, 2)\n",
        "b.resize(3, 3, 2)\n",
        "print(a)\n",
        "print(\"===========\")\n",
        "print(b)"
      ],
      "metadata": {
        "colab": {
          "base_uri": "https://localhost:8080/"
        },
        "id": "vErvUUq6x8q5",
        "outputId": "4e6464fa-b120-42ce-b13e-2302a65fc0eb"
      },
      "execution_count": 15,
      "outputs": [
        {
          "output_type": "stream",
          "name": "stdout",
          "text": [
            "[[[ 1  2]\n",
            "  [ 3  4]\n",
            "  [ 5  6]]\n",
            "\n",
            " [[ 7  8]\n",
            "  [ 9 10]\n",
            "  [11 12]]\n",
            "\n",
            " [[ 0  0]\n",
            "  [ 0  0]\n",
            "  [ 0  0]]]\n",
            "===========\n",
            "[[[13 14]\n",
            "  [15 16]\n",
            "  [17 18]]\n",
            "\n",
            " [[19 20]\n",
            "  [21 22]\n",
            "  [23 24]]\n",
            "\n",
            " [[25  0]\n",
            "  [ 0  0]\n",
            "  [ 0  0]]]\n"
          ]
        }
      ]
    },
    {
      "cell_type": "code",
      "source": [
        "# Объединение\n",
        "c0 = np.concatenate([a, b], axis=0) # Размерность 6x3x2\n",
        "c1 = np.concatenate([a, b], axis=1) # Размерность 3x6x2\n",
        "c2 = np.concatenate([a, b], axis=2) # Размерность 3x3x4\n",
        "\n",
        "# По axis=0\n",
        "print(c0)\n",
        "c0.shape"
      ],
      "metadata": {
        "colab": {
          "base_uri": "https://localhost:8080/"
        },
        "id": "aJdhkadz3ie3",
        "outputId": "1c6a842f-cfaa-4a01-f994-5e774c0bd764"
      },
      "execution_count": 18,
      "outputs": [
        {
          "output_type": "stream",
          "name": "stdout",
          "text": [
            "[[[ 1  2]\n",
            "  [ 3  4]\n",
            "  [ 5  6]]\n",
            "\n",
            " [[ 7  8]\n",
            "  [ 9 10]\n",
            "  [11 12]]\n",
            "\n",
            " [[ 0  0]\n",
            "  [ 0  0]\n",
            "  [ 0  0]]\n",
            "\n",
            " [[13 14]\n",
            "  [15 16]\n",
            "  [17 18]]\n",
            "\n",
            " [[19 20]\n",
            "  [21 22]\n",
            "  [23 24]]\n",
            "\n",
            " [[25  0]\n",
            "  [ 0  0]\n",
            "  [ 0  0]]]\n"
          ]
        },
        {
          "output_type": "execute_result",
          "data": {
            "text/plain": [
              "(6, 3, 2)"
            ]
          },
          "metadata": {},
          "execution_count": 18
        }
      ]
    },
    {
      "cell_type": "code",
      "source": [
        "# По axis=1\n",
        "print(c1)\n",
        "c1.shape"
      ],
      "metadata": {
        "colab": {
          "base_uri": "https://localhost:8080/"
        },
        "id": "s2XYFfUhyN2r",
        "outputId": "60b6c5fb-801c-400d-e069-cf142c342ac4"
      },
      "execution_count": 19,
      "outputs": [
        {
          "output_type": "stream",
          "name": "stdout",
          "text": [
            "[[[ 1  2]\n",
            "  [ 3  4]\n",
            "  [ 5  6]\n",
            "  [13 14]\n",
            "  [15 16]\n",
            "  [17 18]]\n",
            "\n",
            " [[ 7  8]\n",
            "  [ 9 10]\n",
            "  [11 12]\n",
            "  [19 20]\n",
            "  [21 22]\n",
            "  [23 24]]\n",
            "\n",
            " [[ 0  0]\n",
            "  [ 0  0]\n",
            "  [ 0  0]\n",
            "  [25  0]\n",
            "  [ 0  0]\n",
            "  [ 0  0]]]\n"
          ]
        },
        {
          "output_type": "execute_result",
          "data": {
            "text/plain": [
              "(3, 6, 2)"
            ]
          },
          "metadata": {},
          "execution_count": 19
        }
      ]
    },
    {
      "cell_type": "code",
      "source": [
        "# По axis=2\n",
        "print(c2)\n",
        "c2.shape"
      ],
      "metadata": {
        "colab": {
          "base_uri": "https://localhost:8080/"
        },
        "id": "u-irA4Jx4tYk",
        "outputId": "66fef4f9-3add-454b-9d78-84dd6f16aa81"
      },
      "execution_count": 20,
      "outputs": [
        {
          "output_type": "stream",
          "name": "stdout",
          "text": [
            "[[[ 1  2 13 14]\n",
            "  [ 3  4 15 16]\n",
            "  [ 5  6 17 18]]\n",
            "\n",
            " [[ 7  8 19 20]\n",
            "  [ 9 10 21 22]\n",
            "  [11 12 23 24]]\n",
            "\n",
            " [[ 0  0 25  0]\n",
            "  [ 0  0  0  0]\n",
            "  [ 0  0  0  0]]]\n"
          ]
        },
        {
          "output_type": "execute_result",
          "data": {
            "text/plain": [
              "(3, 3, 4)"
            ]
          },
          "metadata": {},
          "execution_count": 20
        }
      ]
    },
    {
      "cell_type": "markdown",
      "source": [
        "# Объекты r_ и c_"
      ],
      "metadata": {
        "id": "kptXFFNlIikX"
      }
    },
    {
      "cell_type": "code",
      "source": [
        "# Создать массивы\n",
        "print(np.r_[ [1, 2, 3], 4, 5 ])\n",
        "\n",
        "print(np.r_[1:9, 90, 100])\n",
        "# Объединение массивов\n",
        "print(np.r_[ np.array([1, 2, 3]), np.array([4, 5, 6]) ])\n",
        "# Объединение двумерных массивов\n",
        "print(np.r_[ [(1,2,3), (4,5,6)], [(7,8,9)] ])"
      ],
      "metadata": {
        "colab": {
          "base_uri": "https://localhost:8080/"
        },
        "id": "rbImCBrdIhIO",
        "outputId": "567c8253-d189-4f1d-b0fd-bf02e0d425d1"
      },
      "execution_count": 28,
      "outputs": [
        {
          "output_type": "stream",
          "name": "stdout",
          "text": [
            "[1 2 3 4 5]\n",
            "[  1   2   3   4   5   6   7   8  90 100]\n",
            "[1 2 3 4 5 6]\n",
            "[[1 2 3]\n",
            " [4 5 6]\n",
            " [7 8 9]]\n"
          ]
        }
      ]
    },
    {
      "cell_type": "code",
      "source": [
        "print(np.r_[1:5])\n",
        "# c_ Делает объединение по axis=1 (Второй оси)\n",
        "print(np.c_[1:5])\n",
        "print('Двумерные матрицы=============')\n",
        "print(np.c_[ [1,2,3], [4,5,6] ])\n",
        "print('=============')\n",
        "print(np.c_[ [(1,2,3), (4,5,6)], [[7],[8]] ])"
      ],
      "metadata": {
        "colab": {
          "base_uri": "https://localhost:8080/"
        },
        "id": "XJphRzshKHP4",
        "outputId": "42f76980-2063-4698-9883-3c347b8ae36f"
      },
      "execution_count": 36,
      "outputs": [
        {
          "output_type": "stream",
          "name": "stdout",
          "text": [
            "[1 2 3 4]\n",
            "[[1]\n",
            " [2]\n",
            " [3]\n",
            " [4]]\n",
            "Двумерные матрицы=============\n",
            "[[1 4]\n",
            " [2 5]\n",
            " [3 6]]\n",
            "=============\n",
            "[[1 2 3 7]\n",
            " [4 5 6 8]]\n"
          ]
        }
      ]
    },
    {
      "cell_type": "markdown",
      "source": [
        "Разделение массивов"
      ],
      "metadata": {
        "id": "4VFQ0WY7MPPF"
      }
    },
    {
      "cell_type": "code",
      "source": [
        "a = np.arange(10)\n",
        "print(a)\n",
        "# Разделение по горизонтали. hsplit - Только целочисленное деление 2, 5\n",
        "print(np.hsplit(a, 5))\n",
        "print('=============')\n",
        "# Разделение по вертикали. Начиная с двумерного или вектора столбца.\n",
        "# a = np.c_[a] # В вектор столец\n",
        "a.shape = 10, -1 # В вектор столец\n",
        "print(np.vsplit(a, 5))"
      ],
      "metadata": {
        "colab": {
          "base_uri": "https://localhost:8080/"
        },
        "id": "XmQVpF-xMTnx",
        "outputId": "74b56356-fcfb-4f6e-f4ee-be4056e6febe"
      },
      "execution_count": 47,
      "outputs": [
        {
          "output_type": "stream",
          "name": "stdout",
          "text": [
            "[0 1 2 3 4 5 6 7 8 9]\n",
            "[array([0, 1]), array([2, 3]), array([4, 5]), array([6, 7]), array([8, 9])]\n",
            "=============\n",
            "[array([[0],\n",
            "       [1]]), array([[2],\n",
            "       [3]]), array([[4],\n",
            "       [5]]), array([[6],\n",
            "       [7]]), array([[8],\n",
            "       [9]])]\n"
          ]
        }
      ]
    },
    {
      "cell_type": "code",
      "source": [
        "# С многомерным вектором\n",
        "a = np.arange(12)\n",
        "a.resize(2, 6)\n",
        "print(a)\n",
        "\n",
        "# По горизонтали\n",
        "print(np.hsplit(a, 2))\n",
        "# По вертикали\n",
        "print(np.vsplit(a, 2))\n"
      ],
      "metadata": {
        "colab": {
          "base_uri": "https://localhost:8080/"
        },
        "id": "wi3_vK4iN0_l",
        "outputId": "8720d183-0fe0-4bd8-b320-20c2a454fb53"
      },
      "execution_count": 52,
      "outputs": [
        {
          "output_type": "stream",
          "name": "stdout",
          "text": [
            "[[ 0  1  2  3  4  5]\n",
            " [ 6  7  8  9 10 11]]\n",
            "[array([[0, 1, 2],\n",
            "       [6, 7, 8]]), array([[ 3,  4,  5],\n",
            "       [ 9, 10, 11]])]\n",
            "[array([[0, 1, 2, 3, 4, 5]]), array([[ 6,  7,  8,  9, 10, 11]])]\n"
          ]
        }
      ]
    },
    {
      "cell_type": "code",
      "source": [
        "# Разбиение по произвольной оси многомерного массива\n",
        "a = np.arange(18)\n",
        "# Трёхмерный массив\n",
        "a.resize(3, 3, 2)\n",
        "print(a)\n",
        "print('=============')\n",
        "# Разбить по третьей оси axis = 2\n",
        "print(np.array_split(a, 2, axis=2))\n",
        "print('=============')\n",
        "np.array_split(a, 2, axis=0)\n"
      ],
      "metadata": {
        "colab": {
          "base_uri": "https://localhost:8080/"
        },
        "id": "uPyQyfKpTM3U",
        "outputId": "1cc37a2a-8ef5-4859-e95a-ece3859cee4c"
      },
      "execution_count": 58,
      "outputs": [
        {
          "output_type": "stream",
          "name": "stdout",
          "text": [
            "[[[ 0  1]\n",
            "  [ 2  3]\n",
            "  [ 4  5]]\n",
            "\n",
            " [[ 6  7]\n",
            "  [ 8  9]\n",
            "  [10 11]]\n",
            "\n",
            " [[12 13]\n",
            "  [14 15]\n",
            "  [16 17]]]\n",
            "=============\n",
            "[array([[[ 0],\n",
            "        [ 2],\n",
            "        [ 4]],\n",
            "\n",
            "       [[ 6],\n",
            "        [ 8],\n",
            "        [10]],\n",
            "\n",
            "       [[12],\n",
            "        [14],\n",
            "        [16]]]), array([[[ 1],\n",
            "        [ 3],\n",
            "        [ 5]],\n",
            "\n",
            "       [[ 7],\n",
            "        [ 9],\n",
            "        [11]],\n",
            "\n",
            "       [[13],\n",
            "        [15],\n",
            "        [17]]])]\n",
            "=============\n"
          ]
        },
        {
          "output_type": "execute_result",
          "data": {
            "text/plain": [
              "[array([[[ 0,  1],\n",
              "         [ 2,  3],\n",
              "         [ 4,  5]],\n",
              " \n",
              "        [[ 6,  7],\n",
              "         [ 8,  9],\n",
              "         [10, 11]]]), array([[[12, 13],\n",
              "         [14, 15],\n",
              "         [16, 17]]])]"
            ]
          },
          "metadata": {},
          "execution_count": 58
        }
      ]
    }
  ]
}