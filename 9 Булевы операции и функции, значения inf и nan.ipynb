{
 "cells": [
  {
   "cell_type": "code",
   "execution_count": 2,
   "metadata": {},
   "outputs": [],
   "source": [
    "import numpy as np"
   ]
  },
  {
   "cell_type": "code",
   "execution_count": 5,
   "metadata": {},
   "outputs": [
    {
     "name": "stdout",
     "output_type": "stream",
     "text": [
      "[False False False  True  True  True]\n",
      "[10 20 30]\n"
     ]
    }
   ],
   "source": [
    "a = np.array([1, 2, 3, 10, 20, 30])\n",
    "\n",
    "print(a > 5) # Числа больше 5\n",
    "print(a[ a > 5 ]) # Вывести массив чисел > 5"
   ]
  },
  {
   "cell_type": "code",
   "execution_count": 8,
   "metadata": {},
   "outputs": [
    {
     "name": "stdout",
     "output_type": "stream",
     "text": [
      "[ True  True  True False False False]\n",
      "[False False False  True  True  True]\n"
     ]
    }
   ],
   "source": [
    "b = np.array([1, 2, 3, 4, 5, 6])\n",
    "\n",
    "print(a == b)\n",
    "print(a != b)"
   ]
  },
  {
   "cell_type": "code",
   "execution_count": 9,
   "metadata": {},
   "outputs": [
    {
     "name": "stdout",
     "output_type": "stream",
     "text": [
      "[False False False  True  True  True]\n",
      "[False False False  True  True  True]\n"
     ]
    }
   ],
   "source": [
    "print(np.greater(a, b))\n",
    "print(a > b)"
   ]
  },
  {
   "cell_type": "code",
   "execution_count": 10,
   "metadata": {},
   "outputs": [
    {
     "name": "stdout",
     "output_type": "stream",
     "text": [
      "[False False False False False False]\n",
      "[False False False False False False]\n"
     ]
    }
   ],
   "source": [
    "print(np.less(a, b))\n",
    "print(a < b)"
   ]
  },
  {
   "cell_type": "code",
   "execution_count": 11,
   "metadata": {},
   "outputs": [
    {
     "name": "stdout",
     "output_type": "stream",
     "text": [
      "[ True  True  True False False False]\n",
      "[ True  True  True False False False]\n"
     ]
    }
   ],
   "source": [
    "print(np.equal(a, b))\n",
    "print(a == b)"
   ]
  },
  {
   "cell_type": "code",
   "execution_count": 12,
   "metadata": {},
   "outputs": [
    {
     "ename": "ValueError",
     "evalue": "The truth value of an array with more than one element is ambiguous. Use a.any() or a.all()",
     "output_type": "error",
     "traceback": [
      "\u001b[1;31m---------------------------------------------------------------------------\u001b[0m",
      "\u001b[1;31mValueError\u001b[0m                                Traceback (most recent call last)",
      "Cell \u001b[1;32mIn[12], line 2\u001b[0m\n\u001b[0;32m      1\u001b[0m \u001b[39m# Будет ошибка\u001b[39;00m\n\u001b[1;32m----> 2\u001b[0m \u001b[39mif\u001b[39;00m(a \u001b[39m==\u001b[39m b): \u001b[39mprint\u001b[39m(\u001b[39m'\u001b[39m\u001b[39ma == b\u001b[39m\u001b[39m'\u001b[39m)\n",
      "\u001b[1;31mValueError\u001b[0m: The truth value of an array with more than one element is ambiguous. Use a.any() or a.all()"
     ]
    }
   ],
   "source": [
    "# Будет ошибка. Т.к. на выходе массив\n",
    "if(a == b): print('a == b')"
   ]
  },
  {
   "cell_type": "code",
   "execution_count": 15,
   "metadata": {},
   "outputs": [
    {
     "name": "stdout",
     "output_type": "stream",
     "text": [
      "a != b\n"
     ]
    }
   ],
   "source": [
    "if np.array_equal(a, b):\n",
    "    print('a == b')\n",
    "else: print('a != b')"
   ]
  },
  {
   "cell_type": "code",
   "execution_count": 19,
   "metadata": {},
   "outputs": [
    {
     "name": "stdout",
     "output_type": "stream",
     "text": [
      "True\n",
      "False\n",
      "True\n"
     ]
    }
   ],
   "source": [
    "# Хотя бы один элемент массива удовлетворяет условию\n",
    "print(np.any(a > 5))\n",
    "print(np.any(a == 5))\n",
    "print(np.any(a == b))"
   ]
  },
  {
   "cell_type": "code",
   "execution_count": 21,
   "metadata": {},
   "outputs": [
    {
     "name": "stdout",
     "output_type": "stream",
     "text": [
      "False\n",
      "True\n"
     ]
    }
   ],
   "source": [
    "# Все элементы удовлетворяют условию\n",
    "print(np.all(a > 5))\n",
    "print(np.all(a > 0))"
   ]
  },
  {
   "cell_type": "code",
   "execution_count": 22,
   "metadata": {},
   "outputs": [
    {
     "name": "stderr",
     "output_type": "stream",
     "text": [
      "C:\\Users\\Muratton\\AppData\\Local\\Temp\\ipykernel_7120\\2535202033.py:2: RuntimeWarning: divide by zero encountered in true_divide\n",
      "  a / 0\n"
     ]
    },
    {
     "data": {
      "text/plain": [
       "array([inf, inf, inf, inf, inf, inf])"
      ]
     },
     "execution_count": 22,
     "metadata": {},
     "output_type": "execute_result"
    }
   ],
   "source": [
    "# Деление на ноль - предупреждение. Бесконечность - массив inf.\n",
    "a / 0"
   ]
  },
  {
   "cell_type": "code",
   "execution_count": 24,
   "metadata": {},
   "outputs": [
    {
     "name": "stdout",
     "output_type": "stream",
     "text": [
      "[ 1.  2. inf]\n",
      "[ 0.  0. nan]\n"
     ]
    },
    {
     "name": "stderr",
     "output_type": "stream",
     "text": [
      "C:\\Users\\Muratton\\AppData\\Local\\Temp\\ipykernel_7120\\2633955165.py:3: RuntimeWarning: invalid value encountered in multiply\n",
      "  print(b * 0)\n"
     ]
    }
   ],
   "source": [
    "b = np.array([1, 2, np.inf])\n",
    "print(b)\n",
    "print(b * 0) # Тоже предупреждение"
   ]
  },
  {
   "cell_type": "code",
   "execution_count": 29,
   "metadata": {},
   "outputs": [
    {
     "name": "stdout",
     "output_type": "stream",
     "text": [
      "[  1.   2.  nan  inf -inf]\n",
      "[False False False  True  True]\n",
      "[False False  True False False]\n"
     ]
    }
   ],
   "source": [
    "# Поиск nan и inf\n",
    "b = np.array([1, 2, np.nan, np.inf, -np.inf])\n",
    "print(b)\n",
    "\n",
    "print(np.isinf(b)) # Поиск inf\n",
    "print(np.isnan(b)) # Поиск nan"
   ]
  },
  {
   "cell_type": "code",
   "execution_count": 35,
   "metadata": {},
   "outputs": [
    {
     "name": "stdout",
     "output_type": "stream",
     "text": [
      "[False False False  True  True]\n",
      "[ 1.  2. nan]\n",
      "[False False  True False False]\n",
      "[  1.   2.  inf -inf]\n"
     ]
    }
   ],
   "source": [
    "# Как исключить nan или inf\n",
    "indx = np.isinf(b)\n",
    "print(indx)\n",
    "print(b[~indx]) # ~ Инвертирование, Исключить inf\n",
    "indx = np.isnan(b)\n",
    "print(indx)\n",
    "print(b[~indx]) # ~ Инвертирование, Исключить nan"
   ]
  },
  {
   "cell_type": "code",
   "execution_count": 33,
   "metadata": {},
   "outputs": [
    {
     "name": "stdout",
     "output_type": "stream",
     "text": [
      "[ True  True False False False]\n"
     ]
    }
   ],
   "source": [
    "# Сразу убрать nan и inf\n",
    "print(np.isfinite(b))"
   ]
  },
  {
   "cell_type": "code",
   "execution_count": 40,
   "metadata": {},
   "outputs": [
    {
     "name": "stdout",
     "output_type": "stream",
     "text": [
      "[1.+2.j 3.-4.j 5.+0.j]\n",
      "[ True  True False]\n",
      "[False False  True]\n"
     ]
    }
   ],
   "source": [
    "# Тип числа. Комплексное или действительное\n",
    "a = np.array([1+2j, 3-4j, 5]) # 5 мнимая часть равна 0\n",
    "print(a)\n",
    "\n",
    "# Комплексное?\n",
    "print(np.iscomplex(a))\n",
    "# Действительное? (nan, inf тоже)\n",
    "print(np.isreal(a))"
   ]
  },
  {
   "cell_type": "code",
   "execution_count": 46,
   "metadata": {},
   "outputs": [
    {
     "name": "stdout",
     "output_type": "stream",
     "text": [
      "И [ True False False False]\n",
      "Или [ True  True  True False]\n",
      "Не [False  True False  True]\n",
      "Искл или [False  True  True False]\n"
     ]
    }
   ],
   "source": [
    "# И, ИЛИ, НЕ, ИСКЛЮЧАЮЩЕЕ ИЛИ\n",
    "x = np.array([True, False, True, False])\n",
    "y = np.array([True, True, False, False])\n",
    "\n",
    "\n",
    "print('И', np.logical_and(x, y)) # Умножение\n",
    "print('Или', np.logical_or(x, y)) # Или\n",
    "print('Не', np.logical_not(x)) # Не\n",
    "print('Искл или', np.logical_xor(x, y)) # Искл или"
   ]
  },
  {
   "cell_type": "code",
   "execution_count": 48,
   "metadata": {},
   "outputs": [
    {
     "name": "stdout",
     "output_type": "stream",
     "text": [
      "И [ True False False False]\n",
      "Или [ True  True  True False]\n"
     ]
    }
   ],
   "source": [
    "# С числами\n",
    "a = np.array([1, 0, 2, 0])\n",
    "b = np.array([5, 4, 0, 0])\n",
    "\n",
    "print('И', np.logical_and(a, b))\n",
    "print('Или', np.logical_or(a, b))"
   ]
  }
 ],
 "metadata": {
  "kernelspec": {
   "display_name": "Python 3",
   "language": "python",
   "name": "python3"
  },
  "language_info": {
   "codemirror_mode": {
    "name": "ipython",
    "version": 3
   },
   "file_extension": ".py",
   "mimetype": "text/x-python",
   "name": "python",
   "nbconvert_exporter": "python",
   "pygments_lexer": "ipython3",
   "version": "3.9.0"
  },
  "orig_nbformat": 4,
  "vscode": {
   "interpreter": {
    "hash": "b4a58c4e081b63d17341b9ee505aae4ebcd570f2594c9b4736973e41efa20ce6"
   }
  }
 },
 "nbformat": 4,
 "nbformat_minor": 2
}
