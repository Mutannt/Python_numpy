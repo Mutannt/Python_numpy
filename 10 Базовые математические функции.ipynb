{
 "cells": [
  {
   "cell_type": "code",
   "execution_count": 21,
   "metadata": {},
   "outputs": [],
   "source": [
    "import numpy as np"
   ]
  },
  {
   "cell_type": "code",
   "execution_count": 22,
   "metadata": {},
   "outputs": [
    {
     "name": "stdout",
     "output_type": "stream",
     "text": [
      "66\n",
      "11.0\n",
      "30\n"
     ]
    },
    {
     "data": {
      "text/plain": [
       "1"
      ]
     },
     "execution_count": 22,
     "metadata": {},
     "output_type": "execute_result"
    }
   ],
   "source": [
    "a = np.array([1, 2, 3, 10, 20, 30])\n",
    "\n",
    "print(a.sum()) # 66\n",
    "print(a.mean())\n",
    "print(a.max())\n",
    "a.min()"
   ]
  },
  {
   "cell_type": "code",
   "execution_count": 23,
   "metadata": {},
   "outputs": [
    {
     "name": "stdout",
     "output_type": "stream",
     "text": [
      "[[ 1  2]\n",
      " [ 3 10]\n",
      " [20 30]]\n",
      "66\n",
      "[24 42]\n",
      "Сумма по строкам [ 3 13 50]\n",
      "max в столбцах [20 30]\n",
      "max в строках [ 2 10 30]\n"
     ]
    }
   ],
   "source": [
    "a.resize(3, 2)\n",
    "print(a)\n",
    "\n",
    "print(a.sum()) # 66\n",
    "# Сумма по одной оси\n",
    "print(a.sum(axis=0)) # По столбцам [24 42]\n",
    "print('Сумма по строкам', a.sum(axis=1)) # По строкам [ 3 13 50]\n",
    "\n",
    "print('max в столбцах', a.max(axis=0)) # [20 30]\n",
    "print('max в строках', a.max(axis=1)) # [ 2 10 30]"
   ]
  },
  {
   "attachments": {},
   "cell_type": "markdown",
   "metadata": {},
   "source": [
    "# Через функции пакета numpy"
   ]
  },
  {
   "cell_type": "code",
   "execution_count": 24,
   "metadata": {},
   "outputs": [
    {
     "name": "stdout",
     "output_type": "stream",
     "text": [
      "[ -1   1   5 -44  32   2]\n",
      "[ 1  1  5 44 32  2]\n",
      "10.5\n",
      "[10.5  2.   7. ]\n",
      "32\n"
     ]
    }
   ],
   "source": [
    "a = np.array([-1, 1, 5, -44, 32, 2])\n",
    "print(a)\n",
    "# Модуль для каждого элемента массива\n",
    "print(np.abs(a))\n",
    "print(np.abs(-10.5))\n",
    "print(np.abs( [-10.5, -2, 7] ))\n",
    "\n",
    "print(np.amax(a)) # 32"
   ]
  },
  {
   "cell_type": "code",
   "execution_count": 25,
   "metadata": {},
   "outputs": [
    {
     "name": "stdout",
     "output_type": "stream",
     "text": [
      "1.0\n",
      "0.75\n",
      "[ -1   1   5 -44  32   2]\n",
      "4\n"
     ]
    }
   ],
   "source": [
    "# Округлить до ближ. целого\n",
    "print(np.round(0.7))\n",
    "\n",
    "# Округлить до заданного числа знаков после запятой.\n",
    "print(np.round(3/4, 2)) # Округлить до сотых\n",
    "# Округлить каждый элемент\n",
    "print(np.round(a))\n",
    "\n",
    "print(np.argmax(a)) # Индекс макс. значения = 4"
   ]
  },
  {
   "cell_type": "code",
   "execution_count": 26,
   "metadata": {},
   "outputs": [
    {
     "name": "stdout",
     "output_type": "stream",
     "text": [
      "[[ -1   1   5]\n",
      " [-44  32   2]] \n",
      "\n",
      "[-1 32  5]\n",
      "[ 5 32]\n"
     ]
    }
   ],
   "source": [
    "# В многомерных массивах\n",
    "a.resize(2, 3)\n",
    "print(a, '\\n')\n",
    "print(np.amax(a, axis=0)) # По столбцам\n",
    "print(np.amax(a, axis=1)) # По строкам"
   ]
  },
  {
   "attachments": {},
   "cell_type": "markdown",
   "metadata": {},
   "source": [
    "## Тригометричекские функции"
   ]
  },
  {
   "cell_type": "code",
   "execution_count": 27,
   "metadata": {},
   "outputs": [
    {
     "name": "stdout",
     "output_type": "stream",
     "text": [
      "[0.         0.34906585 0.6981317  1.04719755 1.3962634  1.74532925\n",
      " 2.0943951  2.44346095 2.7925268  3.14159265] \n",
      "\n",
      "sin= [0.00000000e+00 3.42020143e-01 6.42787610e-01 8.66025404e-01\n",
      " 9.84807753e-01 9.84807753e-01 8.66025404e-01 6.42787610e-01\n",
      " 3.42020143e-01 1.22464680e-16]\n"
     ]
    }
   ],
   "source": [
    "a = np.linspace(0, np.pi, 10) # Разбить интервал на 10 значений\n",
    "print(a, '\\n') # Углы\n",
    "\n",
    "print('sin=', np.sin(a)) # Синусы углов"
   ]
  },
  {
   "cell_type": "code",
   "execution_count": 28,
   "metadata": {},
   "outputs": [
    {
     "data": {
      "text/plain": [
       "array([ 1.000000e+00,  6.123234e-17, -1.000000e+00])"
      ]
     },
     "execution_count": 28,
     "metadata": {},
     "output_type": "execute_result"
    }
   ],
   "source": [
    "np.cos([0, np.pi/2, np.pi])\n",
    "# Следует использовать функции из библиотеки umpy, а не встроенные, потому что они работают быстрее"
   ]
  },
  {
   "attachments": {},
   "cell_type": "markdown",
   "metadata": {},
   "source": [
    "## Функции генерации псевдослучайных чисел"
   ]
  },
  {
   "cell_type": "code",
   "execution_count": 29,
   "metadata": {},
   "outputs": [
    {
     "name": "stdout",
     "output_type": "stream",
     "text": [
      "Число от [0 до 1):\n",
      " 0.7940213504553835\n",
      "Массив чисел от [0 до 1):\n",
      " [0.38804298 0.34034719 0.66191216 0.9055478  0.72003052]\n",
      "Двумерный массив чисел от [0 до 1):\n",
      " [[0.47159228 0.49700533 0.44626619]\n",
      " [0.53057543 0.99324664 0.6144541 ]]\n",
      "Число типа int от [0 до 10):\n",
      " 6\n",
      "Число типа int от [5 до 10):\n",
      " 7\n",
      "Массив чисел [0; 5) типа int длиною 4:\n",
      " [4 3 0 3]\n",
      "Двумерный массив чисел [0; 5) типа int размерностью (2, 5):\n",
      " [[9 6 2 9 2]\n",
      " [8 8 6 7 4]]\n"
     ]
    }
   ],
   "source": [
    "# Функции rand() и randint() генерируют случаюные числа с равномерным распределением.\n",
    "# Число от [0 до 1)\n",
    "print('Число от [0 до 1):\\n', np.random.rand())\n",
    "# Массив чисел от [0 до 1)\n",
    "print('Массив чисел от [0 до 1):\\n', np.random.rand(5))\n",
    "# Двумерный массив\n",
    "print('Двумерный массив чисел от [0 до 1):\\n', np.random.rand(2, 3))\n",
    "\n",
    "# Целое случайное значение\n",
    "print('Число типа int от [0 до 10):\\n', np.random.randint(10))\n",
    "print('Число типа int от [5 до 10):\\n', np.random.randint(5, 10))\n",
    "# Массив чисел [0; 5) типа int длиною 4\n",
    "print('Массив чисел [0; 5) типа int длиною 4:\\n', np.random.randint(5, size=4))\n",
    "# Двумерный массив чисел [0; 5) типа int длиною size=(2, 5)\n",
    "print('Двумерный массив чисел [0; 5) типа int размерностью (2, 5):\\n', np.random.randint(1, 10, size=(2, 5)))\n"
   ]
  },
  {
   "cell_type": "code",
   "execution_count": 30,
   "metadata": {},
   "outputs": [
    {
     "name": "stdout",
     "output_type": "stream",
     "text": [
      "-3.207330329707889\n",
      "1.4767367591982365\n",
      "0.827767170888968\n",
      "-0.9868542719977705\n",
      "[[-1.18323891 -0.93075315  0.5099325 ]\n",
      " [ 0.23811629 -0.26261001 -1.60096738]]\n"
     ]
    }
   ],
   "source": [
    "# Если нужно не равномерное распределение\n",
    "# randn() Нормальные, Гаусовские. Нулевое мат. ожидание и единичная дисперсия\n",
    "print(np.random.randn())\n",
    "print(np.random.randn())\n",
    "print(np.random.randn())\n",
    "print(np.random.randn())\n",
    "print(np.random.randn(2, 3))"
   ]
  },
  {
   "cell_type": "code",
   "execution_count": 31,
   "metadata": {},
   "outputs": [
    {
     "name": "stdout",
     "output_type": "stream",
     "text": [
      "[0.15701122 0.26931898 0.59018655] \n",
      "\n",
      "[[9.98311239e-01 1.46266999e-01 5.62141005e-06]\n",
      " [4.27165492e-04 6.26248659e-01 3.76811375e-06]\n",
      " [9.46739658e-01 7.79586946e-01 1.01619085e-06]]\n"
     ]
    }
   ],
   "source": [
    "# Если нужно не равномерное распределение\n",
    "print(np.random.pareto(2.0, size=3), '\\n')\n",
    "\n",
    "print(np.random.beta(0.1, 0.3, size=(3, 3)))"
   ]
  },
  {
   "cell_type": "code",
   "execution_count": 34,
   "metadata": {},
   "outputs": [
    {
     "name": "stdout",
     "output_type": "stream",
     "text": [
      "-0.712390662050588\n",
      "0.753766378659703\n",
      "-0.044503078338053455\n",
      "0.45181233874578974\n",
      "Массив:\n",
      " [2 0 0 6 2 4 9 3 4 2]\n"
     ]
    }
   ],
   "source": [
    "# Если прикаждом запуске методов нужно одно и тоже число\n",
    "# 13 - Начальное значение датчика случайных чисел\n",
    "np.random.seed(13) # Генерация одних и тех же случайных последовательностей\n",
    "\n",
    "print(np.random.randn())\n",
    "print(np.random.randn())\n",
    "print(np.random.randn())\n",
    "print(np.random.randn())\n",
    "\n",
    "np.random.seed(13)\n",
    "print('Массив:\\n', np.random.randint(10, size=10))\n",
    "\n"
   ]
  },
  {
   "cell_type": "code",
   "execution_count": 35,
   "metadata": {},
   "outputs": [
    {
     "name": "stdout",
     "output_type": "stream",
     "text": [
      "Массив:\n",
      " [2 0 0 6 2 4 9 3 4 2]\n"
     ]
    }
   ],
   "source": [
    "# При выполнении этой команды каждый раз будем получать одинаковый результат.\n",
    "# Например, чтобы сохранить начальные значения весов в нейронной сети\n",
    "np.random.seed(13)\n",
    "print('Массив:\\n', np.random.randint(10, size=10))"
   ]
  },
  {
   "attachments": {},
   "cell_type": "markdown",
   "metadata": {},
   "source": [
    "## Функции перемешивания элементов массива"
   ]
  },
  {
   "cell_type": "code",
   "execution_count": 47,
   "metadata": {},
   "outputs": [
    {
     "name": "stdout",
     "output_type": "stream",
     "text": [
      "[0 1 2 3 4 5 6 7 8 9]\n",
      "Перемешанный массив [2 6 8 9 1 7 0 5 3 4]\n"
     ]
    }
   ],
   "source": [
    "a = np.arange(10)\n",
    "print(a)\n",
    "\n",
    "# Можно перемешать элементы только по одной оси\n",
    "np.random.shuffle(a)\n",
    "print('Перемешанный массив', a)"
   ]
  },
  {
   "cell_type": "code",
   "execution_count": 64,
   "metadata": {},
   "outputs": [
    {
     "name": "stdout",
     "output_type": "stream",
     "text": [
      "[[1 2 3]\n",
      " [4 5 6]\n",
      " [7 8 9]] \n",
      "\n",
      "Только строки\n",
      " [[1 2 3]\n",
      " [4 5 6]\n",
      " [7 8 9]] \n",
      "\n",
      "[[4 5 6]\n",
      " [1 2 3]\n",
      " [7 8 9]] \n",
      "\n",
      "Перемешанный массив [5 3 4 6 9 2 0 8 7 1]\n"
     ]
    }
   ],
   "source": [
    "# Перемешать строки в двумерном массиве\n",
    "a = np.arange(1, 10).reshape(3, 3)\n",
    "print(a, '\\n')\n",
    "\n",
    "# Перетасуются только строки (первая ось)\n",
    "np.random.shuffle(a)\n",
    "print('Только строки\\n', a, '\\n')\n",
    "\n",
    "print(np.random.permutation(a), '\\n')\n",
    "\n",
    "# Одномерный тоже можно\n",
    "print('Перемешанный массив', np.random.permutation(10))"
   ]
  },
  {
   "attachments": {},
   "cell_type": "markdown",
   "metadata": {},
   "source": [
    "## Функции математической статистики"
   ]
  },
  {
   "cell_type": "code",
   "execution_count": 70,
   "metadata": {},
   "outputs": [
    {
     "name": "stdout",
     "output_type": "stream",
     "text": [
      "Медиана 9.0\n",
      "Дисперсия 57.29\n",
      "Среднее квадратическое отклонение 7.569015788066504\n",
      "[[ 1  4  3  7 10  8 14 21 20 23]\n",
      " [ 4  1  6  9 13 11 16 19 15 22]]\n",
      "[[1.         0.93158099]\n",
      " [0.93158099 1.        ]]\n"
     ]
    }
   ],
   "source": [
    "x = np.array([1, 4, 3, 7, 10, 8, 14, 21, 20, 23])\n",
    "y = np.array([4, 1, 6, 9, 13, 11, 16, 19, 15, 22])\n",
    "\n",
    "# Медиана\n",
    "print('Медиана', np.median(x))\n",
    "# Дисперсия\n",
    "print('Дисперсия', np.var(x))\n",
    "# Среднее квадратическое отклонение\n",
    "print('Среднее квадратическое отклонение', np.std(x))\n",
    "\n",
    "# Объединить массив\n",
    "xy = np.vstack([x, y])\n",
    "print(xy) # Двумерный массив\n",
    "\n",
    "print(np.corrcoef(xy)) # 0.9315 Корреляция между соседними элементами, (1;4), (4;1), (3;6) и тд."
   ]
  },
  {
   "cell_type": "code",
   "execution_count": 71,
   "metadata": {},
   "outputs": [
    {
     "name": "stdout",
     "output_type": "stream",
     "text": [
      "[[63.65555556 49.82222222]\n",
      " [49.82222222 44.93333333]]\n"
     ]
    }
   ],
   "source": [
    "# Ковариационная матрица (ненормированная)\n",
    "print(np.cov(xy))"
   ]
  },
  {
   "cell_type": "code",
   "execution_count": 72,
   "metadata": {},
   "outputs": [
    {
     "data": {
      "text/plain": [
       "array([1736])"
      ]
     },
     "execution_count": 72,
     "metadata": {},
     "output_type": "execute_result"
    }
   ],
   "source": [
    "# Корреляция между двумя векторами\n",
    "np.correlate(x, y)"
   ]
  }
 ],
 "metadata": {
  "kernelspec": {
   "display_name": "Python 3",
   "language": "python",
   "name": "python3"
  },
  "language_info": {
   "codemirror_mode": {
    "name": "ipython",
    "version": 3
   },
   "file_extension": ".py",
   "mimetype": "text/x-python",
   "name": "python",
   "nbconvert_exporter": "python",
   "pygments_lexer": "ipython3",
   "version": "3.9.0 (tags/v3.9.0:9cf6752, Oct  5 2020, 15:34:40) [MSC v.1927 64 bit (AMD64)]"
  },
  "orig_nbformat": 4,
  "vscode": {
   "interpreter": {
    "hash": "b4a58c4e081b63d17341b9ee505aae4ebcd570f2594c9b4736973e41efa20ce6"
   }
  }
 },
 "nbformat": 4,
 "nbformat_minor": 2
}
