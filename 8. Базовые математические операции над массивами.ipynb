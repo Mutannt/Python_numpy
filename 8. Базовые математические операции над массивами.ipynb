{
 "cells": [
  {
   "cell_type": "code",
   "execution_count": 1,
   "metadata": {},
   "outputs": [],
   "source": [
    "import numpy as np"
   ]
  },
  {
   "cell_type": "code",
   "execution_count": 3,
   "metadata": {},
   "outputs": [
    {
     "name": "stdout",
     "output_type": "stream",
     "text": [
      "[1, 2, 3, 1, 2, 3]\n",
      "[2 4 6]\n"
     ]
    }
   ],
   "source": [
    "list = [1, 2, 3]\n",
    "a = np.array([1, 2, 3])\n",
    "\n",
    "# Отличия списков от массивов\n",
    "print(list*2)\n",
    "print(a*2) # Можно выполнять математические операции"
   ]
  },
  {
   "cell_type": "code",
   "execution_count": 9,
   "metadata": {},
   "outputs": [
    {
     "name": "stdout",
     "output_type": "stream",
     "text": [
      "[1 2 3]\n",
      "Отрицательные [-1 -2 -3]\n",
      "Вычитание а-3 [-2 -1  0]\n",
      "Цел. деление [0 1 1]\n",
      "Возведение в степень [1 4 9]\n",
      "Остаток от деления [1 0 1]\n"
     ]
    }
   ],
   "source": [
    "# Математические операции\n",
    "print(a)\n",
    "print('Отрицательные', -a) # Сделать отрицательными\n",
    "print('Вычитание а-3', a-3)\n",
    "print('Цел. деление', a // 2)\n",
    "print('Возведение в степень', a**2)\n",
    "print('Остаток от деления', a % 2)\n"
   ]
  },
  {
   "cell_type": "code",
   "execution_count": 14,
   "metadata": {},
   "outputs": [
    {
     "name": "stdout",
     "output_type": "stream",
     "text": [
      "[-2 -2 -2]\n",
      "[4 6 8]\n",
      "[ 3  8 15]\n",
      "b в степень а [  3  16 125]\n"
     ]
    }
   ],
   "source": [
    "b = np.array([3, 4, 5])\n",
    "\n",
    "# Поэлементные операции. Массивы должны быть согласованы по размеру\n",
    "print(a - b)\n",
    "print(a + b)\n",
    "print(a * b)\n",
    "print('b в степень а', b**a)"
   ]
  },
  {
   "cell_type": "code",
   "execution_count": 19,
   "metadata": {},
   "outputs": [
    {
     "name": "stdout",
     "output_type": "stream",
     "text": [
      "b\n",
      " [[1 2 3]\n",
      " [4 5 6]]\n",
      "a\n",
      " [1 2 3]\n",
      "a + b\n",
      " [[2 4 6]\n",
      " [5 7 9]]\n"
     ]
    }
   ],
   "source": [
    "# Согласованность по размеру\n",
    "b = np.arange(1, 7)\n",
    "b.resize(2, 3)\n",
    "print('b\\n', b)\n",
    "print('a\\n', a)\n",
    "\n",
    "# Транслирование массивов\n",
    "print('a + b\\n', a + b)"
   ]
  },
  {
   "cell_type": "code",
   "execution_count": 27,
   "metadata": {},
   "outputs": [
    {
     "name": "stdout",
     "output_type": "stream",
     "text": [
      "[[[ 1  2]\n",
      "  [ 3  4]\n",
      "  [ 5  6]]\n",
      "\n",
      " [[ 7  8]\n",
      "  [ 9 10]\n",
      "  [11 12]]\n",
      "\n",
      " [[13 14]\n",
      "  [15 16]\n",
      "  [17 18]]] \n",
      "==========\n",
      " [[1. 1.]\n",
      " [1. 1.]\n",
      " [1. 1.]]\n",
      "==============\n",
      "a+b\n",
      " [[[ 2.  3.]\n",
      "  [ 4.  5.]\n",
      "  [ 6.  7.]]\n",
      "\n",
      " [[ 8.  9.]\n",
      "  [10. 11.]\n",
      "  [12. 13.]]\n",
      "\n",
      " [[14. 15.]\n",
      "  [16. 17.]\n",
      "  [18. 19.]]]\n"
     ]
    }
   ],
   "source": [
    "# Операции с многомерными массивами\n",
    "a = np.arange(1, 19)\n",
    "a.resize(3, 3, 2)\n",
    "b = np.ones((3, 2))\n",
    "\n",
    "print(a, '\\n==========\\n', b)\n",
    "print('==============')\n",
    "print('a+b\\n', a + b)"
   ]
  },
  {
   "cell_type": "code",
   "execution_count": 34,
   "metadata": {},
   "outputs": [
    {
     "name": "stdout",
     "output_type": "stream",
     "text": [
      "[ 6  7 11 13]\n",
      "[1 2 6 8]\n",
      "[ 6  7 11 13]\n"
     ]
    }
   ],
   "source": [
    "a = np.array([1, 2, 6, 8])\n",
    "print(a + 5) # Сам массив не изменился. Создаётся копия\n",
    "print(a)\n",
    "a += 5 # Сам массив изменился\n",
    "print(a)"
   ]
  },
  {
   "cell_type": "code",
   "execution_count": 37,
   "metadata": {},
   "outputs": [
    {
     "name": "stdout",
     "output_type": "stream",
     "text": [
      "[1. 1. 1. 1.]\n",
      "[ 6.  7. 11. 13.]\n"
     ]
    },
    {
     "ename": "UFuncTypeError",
     "evalue": "Cannot cast ufunc 'add' output from dtype('float64') to dtype('int32') with casting rule 'same_kind'",
     "output_type": "error",
     "traceback": [
      "\u001b[1;31m---------------------------------------------------------------------------\u001b[0m",
      "\u001b[1;31mUFuncTypeError\u001b[0m                            Traceback (most recent call last)",
      "Cell \u001b[1;32mIn[37], line 7\u001b[0m\n\u001b[0;32m      4\u001b[0m b \u001b[39m*\u001b[39m\u001b[39m=\u001b[39m a\n\u001b[0;32m      5\u001b[0m \u001b[39mprint\u001b[39m(b)\n\u001b[1;32m----> 7\u001b[0m a \u001b[39m+\u001b[39m\u001b[39m=\u001b[39m b\n",
      "\u001b[1;31mUFuncTypeError\u001b[0m: Cannot cast ufunc 'add' output from dtype('float64') to dtype('int32') with casting rule 'same_kind'"
     ]
    }
   ],
   "source": [
    "b = np.ones(4) # Вещественные\n",
    "print(b)\n",
    "\n",
    "b *= a\n",
    "print(b)\n",
    "\n",
    "a += b # Ошибка. т.к. Вещественный результат присваиваем целочисленному массиву"
   ]
  }
 ],
 "metadata": {
  "kernelspec": {
   "display_name": "Python 3",
   "language": "python",
   "name": "python3"
  },
  "language_info": {
   "codemirror_mode": {
    "name": "ipython",
    "version": 3
   },
   "file_extension": ".py",
   "mimetype": "text/x-python",
   "name": "python",
   "nbconvert_exporter": "python",
   "pygments_lexer": "ipython3",
   "version": "3.9.0 (tags/v3.9.0:9cf6752, Oct  5 2020, 15:34:40) [MSC v.1927 64 bit (AMD64)]"
  },
  "orig_nbformat": 4,
  "vscode": {
   "interpreter": {
    "hash": "b4a58c4e081b63d17341b9ee505aae4ebcd570f2594c9b4736973e41efa20ce6"
   }
  }
 },
 "nbformat": 4,
 "nbformat_minor": 2
}
